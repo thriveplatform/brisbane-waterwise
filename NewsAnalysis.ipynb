{
 "cells": [
  {
   "cell_type": "markdown",
   "id": "248954ab-cb4e-4327-b159-7c6c2c1e5dcf",
   "metadata": {},
   "source": [
    "# Paris Olympics News Analysis\n",
    "The objective of this program is to gather news articles in the lead up to the Paris Olympics and analyze them.\n",
    "1) Get top 100 headlines related to sports and Olympics for each day from one year prior to the end of the Olympics up to the closing date, i.e., 12 August 2023 to 12 August 2024.\n",
    "\n",
    "2) The articles will be analyzed and segregated based on sentiment of the article towards the Olympics:\n",
    "   - Positive sentiment\n",
    "   - Negative sentiment\n",
    "<br><br>\n",
    "3) The articles with negative sentiment will further be analysed to determine if the negative sentiment is attributable to Seine river.<br>\n",
    "4) A stacked area-chart will be created with the bottom layer representing the percentage of Siene-related negative news and the top layer representing the percentage of non-Siene-related negative news."
   ]
  },
  {
   "cell_type": "code",
   "execution_count": 6,
   "id": "47b483a0-408d-468d-93e4-34d653807b07",
   "metadata": {},
   "outputs": [
    {
     "name": "stderr",
     "output_type": "stream",
     "text": [
      "C:\\Users\\draw0004\\anaconda3\\envs\\AdditionalLibraries\\Lib\\site-packages\\tqdm\\auto.py:21: TqdmWarning: IProgress not found. Please update jupyter and ipywidgets. See https://ipywidgets.readthedocs.io/en/stable/user_install.html\n",
      "  from .autonotebook import tqdm as notebook_tqdm\n"
     ]
    }
   ],
   "source": [
    "import json\n",
    "\n",
    "import urllib.request\n",
    "import urllib.response\n",
    "\n",
    "import pandas as pd\n",
    "import numpy as np\n",
    "import time\n",
    "from matplotlib import pyplot as plt\n",
    "import transformers\n",
    "from transformers import AutoTokenizer\n",
    "from transformers import Trainer, TrainingArguments, DistilBertForSequenceClassification, DistilBertTokenizerFast, DataCollatorWithPadding, pipeline\n",
    "from transformers import AutoModelForSequenceClassification\n",
    "from datetime import datetime, timedelta\n",
    "from datasets import Dataset, DatasetDict\n",
    "import torch\n",
    "import os\n",
    "\n",
    "import requests\n",
    "from bs4 import BeautifulSoup\n",
    "\n",
    "from sklearn.metrics import f1_score, accuracy_score, precision_score, recall_score\n",
    "from sklearn.model_selection import train_test_split"
   ]
  },
  {
   "cell_type": "code",
   "execution_count": 7,
   "id": "4816f2aa-823a-4ca8-8813-2715e06cd4d5",
   "metadata": {},
   "outputs": [],
   "source": [
    "RETREIVE_ARTICLES_FROM_GNEWS = False\n",
    "USE_SAVED_MODEL = False\n",
    "DETERMINE_IMAGE_REL_ARTICLES = True"
   ]
  },
  {
   "cell_type": "markdown",
   "id": "71ab8f5b-9020-443f-8878-d0efe573116e",
   "metadata": {},
   "source": [
    "## 1. Gather the news articles\n",
    "The news articles have been gather using the GNews API (https://gnews.io/)."
   ]
  },
  {
   "cell_type": "markdown",
   "id": "fd69df35-1470-4711-b8bf-5c27cbcc90a9",
   "metadata": {},
   "source": [
    "### 1.1 Function to invoke the end-points to get articles"
   ]
  },
  {
   "cell_type": "code",
   "execution_count": 8,
   "id": "ac4b6572-0bea-45ea-b7ed-4ef424c75523",
   "metadata": {},
   "outputs": [],
   "source": [
    "def get_top_olympics_articles(date_from = None, date_to = None, print_how_many = 3):\n",
    "\n",
    "    APIKEY = \"81a8f293ff4b6e6bb4157f5f5945ed04\"\n",
    "    #URL = f\"https://gnews.io/api/v4/search?q={search_term}&lang=en&max=10&from={date_from}&to={date_to}&apikey={APIKEY}\"\n",
    "    URL = f\"https://gnews.io/api/v4/top-headlines?q=olympics&category=sports&lang=en&max=100&from={date_from}&to={date_to}&apikey={APIKEY}\"\n",
    "        \n",
    "    with urllib.request.urlopen(URL) as response:\n",
    "        \n",
    "        data_dict = json.loads(response.read().decode(\"utf-8\"))\n",
    "        article_list = data_dict[\"articles\"]\n",
    "        \n",
    "        for i in range(len(article_list)):\n",
    "    \n",
    "            if i < print_how_many:\n",
    "                print(f\"Article {i+1}\")\n",
    "                print(f\"Title: {article_list[i]['title']}\")\n",
    "                print(f\"Description: {article_list[i]['description']}\")\n",
    "                print(f\"Content: {article_list[i]['content']}\")\n",
    "                print(f\"URL: {article_list[i]['url']}\\n\")\n",
    "                            \n",
    "            else:\n",
    "                continue\n",
    "                \n",
    "    return article_list"
   ]
  },
  {
   "cell_type": "code",
   "execution_count": 9,
   "id": "685cbb84-7f4d-43ce-8aee-15d9dd5e9508",
   "metadata": {},
   "outputs": [],
   "source": [
    "date_from = '2023-07-26T00:00:00Z'\n",
    "date_to = '2024-08-11T23:59:59Z'"
   ]
  },
  {
   "cell_type": "code",
   "execution_count": 10,
   "id": "62fec3c4-e161-4132-9e98-fe8950633a57",
   "metadata": {},
   "outputs": [],
   "source": [
    "if RETREIVE_ARTICLES_FROM_GNEWS == True:\n",
    "\n",
    "    #This is just a test logic.    \n",
    "    search_term = \"Olympics\"\n",
    "    sort_by = 'publishedAt'\n",
    "\n",
    "    article_list = get_top_olympics_articles(date_from = date_from, date_to = date_to, print_how_many = 3)"
   ]
  },
  {
   "cell_type": "markdown",
   "id": "6e7971d5-772e-4be6-b747-fef5911dc30c",
   "metadata": {},
   "source": [
    "### 1.2 Repeated invocation of the function to download the required number of articles\n",
    "Each invocation will, at the most, return only 10 articles."
   ]
  },
  {
   "cell_type": "code",
   "execution_count": 11,
   "id": "91090710-b24c-49b2-b375-1557c54a65a0",
   "metadata": {},
   "outputs": [],
   "source": [
    "sort_by = 'publishedAt'"
   ]
  },
  {
   "cell_type": "code",
   "execution_count": 12,
   "id": "d44e5553-0f19-4601-b16a-fcccc6062df3",
   "metadata": {},
   "outputs": [],
   "source": [
    "#Load articles saved in previous runs.\n",
    "if os.path.exists(\"articles.json\"):\n",
    "    \n",
    "    with open(\"articles.json\", \"r\", encoding=\"utf-8\") as f:\n",
    "        article_list = json.load(f)\n",
    "        article_copy_list = []\n",
    "        date_range = pd.date_range(start=pd.to_datetime(date_from).strftime(\"%Y-%m-%d\"), end=pd.to_datetime(date_to).strftime(\"%Y-%m-%d\"))\n",
    "        \n",
    "        for article_dict in article_list:\n",
    "            article_dict.pop('expanded content', None)\n",
    "            article_dict.pop('content sentiment', None)\n",
    "            \n",
    "            if pd.to_datetime(article_dict['publishedAt']).strftime(\"%Y-%m-%d\") in date_range:\n",
    "                article_copy_list.append(article_dict)\n",
    "\n",
    "    article_list = article_copy_list\n",
    "                \n",
    "else:\n",
    "    #Add newly read articles to the list of existing articles.\n",
    "    article_list = []"
   ]
  },
  {
   "cell_type": "code",
   "execution_count": 13,
   "id": "3a35e347-c261-4677-9080-60160dfd0840",
   "metadata": {},
   "outputs": [],
   "source": [
    "if RETREIVE_ARTICLES_FROM_GNEWS == True:\n",
    "\n",
    "    article_date_set = set()\n",
    "    \n",
    "    #Based on articles loaded from previous runs, what is the period we should be retrieving articles for?\n",
    "    #We first add dates from these previously loaded articles to the 'article_date_set' set.\n",
    "    for article_dict in article_list:\n",
    "        article_date = pd.to_datetime(article_dict['publishedAt']).strftime(\"%Y-%m-%d\")\n",
    "        article_date_set.add(article_date)\n",
    "    \n",
    "    #The starting period will always be the following.\n",
    "    date_from_text = '2023-08-12T00:00:00Z'\n",
    "    date_from = pd.to_datetime(date_from_text)\n",
    "\n",
    "    #The period up to which we should be now reading articles depends on whether we have any previously loaded articles or not.\n",
    "    \n",
    "    #Articles have been read in the past. Determine the date up to which articles need to be read based on these past articles.\n",
    "    if len(article_date_set ) > 0:\n",
    "    \n",
    "        min_date = (min(pd.to_datetime(date_str) for date_str in article_date_set) - timedelta(1))\n",
    "        date_to_text = min_date.strftime(\"%Y-%m-%d\") + \"T\" + \"23:59:59Z\"\n",
    "        date_to = pd.to_datetime(date_to_text)\n",
    "    \n",
    "    #Articles have not been read in the past. In this case, the articles will be read up to the closing date of the Olympics.\n",
    "    else:\n",
    "        \n",
    "        date_to_text = '2024-08-12T23:59:59Z'\n",
    "        date_to = pd.to_datetime(date_to_text)\n",
    "        \n",
    "    print(f\"In this run, we'll attempt to read articles between the period {date_from_text} to {date_to_text}.\")    "
   ]
  },
  {
   "cell_type": "code",
   "execution_count": 14,
   "id": "6ece97e1-3c8a-44a0-9cb0-ddb9b971bf7d",
   "metadata": {},
   "outputs": [],
   "source": [
    "if RETREIVE_ARTICLES_FROM_GNEWS == True:\n",
    "\n",
    "    count = 0\n",
    "    \n",
    "    RETRIEVAL_SUCCESS = 1            #1: Successful retrieval of articles\n",
    "    PARTIAL_RETRIEVAL_SUCCESS = 2    #2: Partially successful retrieval of articles\n",
    "    FAILED_RETRIEVAL_SUCCESS = 3     #3: Failed retrieval of articles\n",
    "    \n",
    "    article_retreival_status = -1\n",
    "\n",
    "    #In each iteration of the loop below, we'll be reading top 100 articles in the sports category with 'Olympics' as the keyword for a particular day.\n",
    "    #This day will be shifted one position to the left in each iteration.\n",
    "    curr_date_to = date_to\n",
    "    curr_date_from = date_to - timedelta(1)\n",
    "    \n",
    "    #Keep reading for consecutive days going further back from the closing date of the Paris Olympics.\n",
    "    while curr_date_from >= date_from:\n",
    "    \n",
    "        curr_date_from_text = curr_date_from.strftime(\"%Y-%m-%d\") + 'T' + '00:00:00' + 'Z'\n",
    "        curr_date_to_text = curr_date_to.strftime(\"%Y-%m-%d\") + 'T' + curr_date_to.strftime(\"%H:%M:%S\") + 'Z'\n",
    "        \n",
    "        #Get articles for the current 1 day period.\n",
    "        print(f\"Retrieving articles for the day {curr_date_from_text} - {curr_date_to_text}\")\n",
    "        \n",
    "        try:\n",
    "            time.sleep(1) #Delay of 1 second between successive requests for articles.\n",
    "            curr_date_article_list = get_top_olympics_articles(date_from = curr_date_from_text, date_to = curr_date_to_text, print_how_many = 1)\n",
    "            \n",
    "        except urllib.error.HTTPError as e:\n",
    "            \n",
    "            #403\tForbidden -- You have reached your daily quota, the next reset is at 00:00 UTC.\n",
    "            if e.code == 403:\n",
    "                article_retreival_status = PARTIAL_RETRIEVAL_SUCCESS\n",
    "                print(e)\n",
    "                break\n",
    "                \n",
    "            #429\tToo Many Requests -- You have made more requests per second than you are allowed.\n",
    "            elif e.code == 429:\n",
    "                article_retreival_status = PARTIAL_RETRIEVAL_SUCCESS\n",
    "                print(e)\n",
    "                break\n",
    "                #Introduce delay of 1 second\n",
    "    \n",
    "            #400\tBad Request -- Your request is invalid.\n",
    "            #401\tUnauthorized -- Your API key is wrong.\n",
    "            #500\tInternal Server Error -- We had a problem with our server. Try again later.\n",
    "            #503    Service Unavailable -- We're temporarily offline for maintenance. Please try again later.\n",
    "            elif e.code in [400, 401, 500, 503]:\n",
    "                article_retreival_status = FAILED_RETRIEVAL_SUCCESS\n",
    "                print(e)\n",
    "                break\n",
    "    \n",
    "            else:\n",
    "                #Continue processing.\n",
    "                article_retreival_status = RETRIEVAL_SUCCESS\n",
    "                pass\n",
    "        \n",
    "        print(f\"Number of articles read for the current day = {len(curr_date_article_list)}\")\n",
    "        article_list.extend(curr_date_article_list)\n",
    "        \n",
    "        #Increment the count of articles.\n",
    "        count += len(curr_date_article_list)\n",
    "        \n",
    "        #Shift the period one day behing.\n",
    "        curr_date_from  = pd.to_datetime(curr_date_from) - timedelta(1)\n",
    "        curr_date_to = pd.to_datetime(curr_date_to)  - timedelta(1)\n",
    "        \n",
    "        print(\"------------------------------------------------------\\n\") "
   ]
  },
  {
   "cell_type": "code",
   "execution_count": 15,
   "id": "1fe8d2b1-a0d7-4a52-8798-2ac164ef5bf6",
   "metadata": {},
   "outputs": [
    {
     "name": "stdout",
     "output_type": "stream",
     "text": [
      "Total number of articles (ready previously + read today) = 8462\n"
     ]
    }
   ],
   "source": [
    "if RETREIVE_ARTICLES_FROM_GNEWS == True:\n",
    "\n",
    "    if article_retreival_status == FAILED_RETRIEVAL_SUCCESS:\n",
    "        raise Exception(\"Article retreival failed completely. Try again later!\")\n",
    "    \n",
    "    elif article_retreival_status == PARTIAL_RETRIEVAL_SUCCESS:\n",
    "        print(\"Article retreival partially successful. Subsequent program runs will be needed.\")\n",
    "    \n",
    "    elif article_retreival_status == RETRIEVAL_SUCCESS:\n",
    "        print(\"Article retreival successful. Subsequent program runs NOT needed.\")\n",
    "\n",
    "print(f\"Total number of articles (ready previously + read today) = {len(article_list)}\")"
   ]
  },
  {
   "cell_type": "markdown",
   "id": "efd67780-cc02-4f5d-9304-856c3121ceb1",
   "metadata": {},
   "source": [
    "### 1.3 Save the articles read to file"
   ]
  },
  {
   "cell_type": "code",
   "execution_count": 16,
   "id": "862dbb43-9348-4b4f-a7f1-2f6131930a44",
   "metadata": {},
   "outputs": [],
   "source": [
    "if RETREIVE_ARTICLES_FROM_GNEWS == True:\n",
    "    \n",
    "    # Save the updated list back to the file\n",
    "    with open(\"articles.json\", \"w\", encoding=\"utf-8\") as f:\n",
    "        json.dump(article_list, f, ensure_ascii=False, indent=4)"
   ]
  },
  {
   "cell_type": "markdown",
   "id": "1a7b500c-d3de-4837-b46f-4146b0ef6330",
   "metadata": {},
   "source": [
    "## 2. Determine whether the articles pertain to topics that impact the public perception of the Paris Olympics."
   ]
  },
  {
   "cell_type": "markdown",
   "id": "15ebaeb2-cee7-4b71-a21d-34ebec311f81",
   "metadata": {},
   "source": [
    "### 2.1 Read the labelled data and convert it to suitable form"
   ]
  },
  {
   "cell_type": "code",
   "execution_count": 17,
   "id": "eccdf499-0fe5-4e1f-8376-222e41d10725",
   "metadata": {},
   "outputs": [],
   "source": [
    "if USE_SAVED_MODEL == False:\n",
    "    \n",
    "    #Load articles saved in previous runs.\n",
    "    if os.path.exists(\"Labelled Data - Article Image Relevance.json\"):\n",
    "        \n",
    "        with open(\"Labelled Data - Article Image Relevance.json\", \"r\", encoding=\"utf-8\") as f:\n",
    "              categorized_article_list = json.load(f)"
   ]
  },
  {
   "cell_type": "code",
   "execution_count": 18,
   "id": "3d682847-3ab3-4e10-93b1-9e58547dcc10",
   "metadata": {},
   "outputs": [
    {
     "name": "stdout",
     "output_type": "stream",
     "text": [
      "Number of rows of input text = 575, labels = 575, encoded labels = 575\n",
      "The unique label values are ['NO' 'YES']\n",
      "First five input texts:\n",
      "['Kayak Cross at Olympics is the Best Sibling Drama of 2024. The only thing I know about Kayak Cross for certain after an hour or so of watching it is that it is the most compelling TV I’ve seen in 2024.', \"Illness and withdrawals ahead of mixed relay triathlon. Belgium have withdrawn from Monday's mixed relay triathlon at the Paris Olympics citing an illness for athlete Claire Michel amid reports it is a case of E. coli.\", 'NBC and Peacock Earn Viewership Gold. The numbers are in, and by NBC and Peacock’s “total audience delivery” rating, Olympics viewership shot up dramatically from Tokyo and other Olympiads as well. Here’s our full breakdown of the ratings.', 'Paris Olympics Closing Ceremony Doubles Tokyo Audience. The Paris Olympics concluded the 2024 Games with a highly viewed Closing Ceremony, which brought in 20.8 million viewers', 'Sinéad Diver blames \\'vitriol online\\' for body breaking down at 1.2km point of Olympic marathon. Sinéad Diver described the lead-up to the marathon at the Paris Olympics as \"one of the most challenging times of my life\" and believes the criticism she\\'s faced contributed to her body breaking down during the race.']\n",
      "\n",
      "First five labels:\n",
      "['NO', 'YES', 'YES', 'YES', 'NO']\n",
      "\n",
      "First five encoded labels:\n",
      "[0, 1, 1, 1, 0]\n"
     ]
    }
   ],
   "source": [
    "if USE_SAVED_MODEL == False:\n",
    "\n",
    "    #Number of rows of labelled data.\n",
    "    input_text_list = []\n",
    "    label_list = []\n",
    "    unique_label_list = ['NO', 'YES']\n",
    "    \n",
    "    for categorized_article in categorized_article_list:\n",
    "    \n",
    "        input_text_list.append(categorized_article['title'].strip() + '. ' + categorized_article['description'].strip())\n",
    "        label_list.append(categorized_article['organization related'])\n",
    "    \n",
    "    encoded_label_list = [unique_label_list.index(label) for label in label_list]\n",
    "    \n",
    "    print(f\"Number of rows of input text = {len(input_text_list)}, labels = {len(label_list)}, encoded labels = {len(encoded_label_list)}\")\n",
    "    print(f\"The unique label values are {np.unique(label_list)}\")\n",
    "    \n",
    "    print(f\"First five input texts:\")\n",
    "    print(input_text_list[0:5])\n",
    "    print(f\"\\nFirst five labels:\")\n",
    "    print(label_list[0:5])\n",
    "    print(f\"\\nFirst five encoded labels:\")\n",
    "    print(encoded_label_list[0:5])"
   ]
  },
  {
   "cell_type": "code",
   "execution_count": 19,
   "id": "0d6e33d3-ee7c-4e39-9101-31086cb32db1",
   "metadata": {},
   "outputs": [],
   "source": [
    "if USE_SAVED_MODEL == False:\n",
    "\n",
    "    train_texts, test_texts, train_labels, test_labels = train_test_split(input_text_list, encoded_label_list, test_size = 0.2, stratify = encoded_label_list, random_state = 42)\n",
    "    \n",
    "    train_dataset = Dataset.from_dict({\n",
    "                                        \"input_text\": train_texts,\n",
    "                                        \"label\": train_labels})\n",
    "    test_dataset = Dataset.from_dict({\n",
    "                                        \"input_text\": test_texts,\n",
    "                                        \"label\": test_labels})\n",
    "\n",
    "    categorized_article_dataset = DatasetDict({\n",
    "                                                \"train\": train_dataset,\n",
    "                                                \"test\": test_dataset})"
   ]
  },
  {
   "cell_type": "markdown",
   "id": "75d32e61-a94c-4fcb-b30a-00606089d342",
   "metadata": {},
   "source": [
    "### 2.2 Train and test the pretrained model"
   ]
  },
  {
   "cell_type": "code",
   "execution_count": 20,
   "id": "461f32a0-6a90-4b05-85a7-c1d4b9d746c5",
   "metadata": {},
   "outputs": [],
   "source": [
    "def pre_process_function(examples):\n",
    "    return tokenizer(examples['input_text'], truncation = True)"
   ]
  },
  {
   "cell_type": "code",
   "execution_count": 21,
   "id": "46120137-cba9-4ea1-9ab6-988db11deca9",
   "metadata": {},
   "outputs": [],
   "source": [
    "def compute_metrics(eval_pred):\n",
    "\n",
    "    logits, labels = eval_pred\n",
    "    preds = np.argmax(logits, axis = -1)\n",
    "\n",
    "    acc = accuracy_score(y_pred = preds, y_true = labels)\n",
    "    f1 = f1_score(y_pred = preds, y_true = labels, average='binary')\n",
    "    precision = precision_score(y_pred = preds, y_true = labels, average='binary')\n",
    "    recall = recall_score(y_pred = preds, y_true = labels, average='binary')\n",
    "    \n",
    "    return {\n",
    "        \"accuracy\": acc,\n",
    "        \"f1\": f1,\n",
    "        \"precision\": precision,\n",
    "        \"recall\": recall\n",
    "    }"
   ]
  },
  {
   "cell_type": "code",
   "execution_count": 22,
   "id": "56abe127-2523-4310-bad6-b48f5360661e",
   "metadata": {},
   "outputs": [],
   "source": [
    "transformers.set_seed(42)"
   ]
  },
  {
   "cell_type": "code",
   "execution_count": 23,
   "id": "8c3a15b8-e078-45a4-a245-1f610d00b1da",
   "metadata": {},
   "outputs": [
    {
     "name": "stderr",
     "output_type": "stream",
     "text": [
      "Map: 100%|██████████| 460/460 [00:00<00:00, 4593.72 examples/s]\n",
      "Map: 100%|██████████| 115/115 [00:00<00:00, 7536.17 examples/s]\n"
     ]
    }
   ],
   "source": [
    "tokenizer = DistilBertTokenizerFast.from_pretrained('distilbert-base-uncased')\n",
    "\n",
    "if USE_SAVED_MODEL == False:\n",
    "    \n",
    "    tokenized_cat_article_dataset = categorized_article_dataset.map(pre_process_function, batched=True)\n",
    "    tokenized_cat_article_dataset['train']\n",
    "    \n",
    "    data_collator = DataCollatorWithPadding(tokenizer = tokenizer)"
   ]
  },
  {
   "cell_type": "code",
   "execution_count": 24,
   "id": "b195995a-ecf1-4b24-8bd1-91abd335dbb6",
   "metadata": {},
   "outputs": [
    {
     "name": "stderr",
     "output_type": "stream",
     "text": [
      "Some weights of DistilBertForSequenceClassification were not initialized from the model checkpoint at distilbert-base-uncased and are newly initialized: ['classifier.bias', 'classifier.weight', 'pre_classifier.bias', 'pre_classifier.weight']\n",
      "You should probably TRAIN this model on a down-stream task to be able to use it for predictions and inference.\n"
     ]
    }
   ],
   "source": [
    "if USE_SAVED_MODEL == False:\n",
    "\n",
    "    seq_clf_model = DistilBertForSequenceClassification.from_pretrained('distilbert-base-uncased', num_labels = len(unique_label_list))\n",
    "    seq_clf_model.config.id2label = {i: l for i, l in enumerate(unique_label_list)}"
   ]
  },
  {
   "cell_type": "code",
   "execution_count": 25,
   "id": "301863a0-1a62-4870-aa35-505536091e0b",
   "metadata": {},
   "outputs": [
    {
     "name": "stderr",
     "output_type": "stream",
     "text": [
      "The following columns in the training set don't have a corresponding argument in `DistilBertForSequenceClassification.forward` and have been ignored: input_text. If input_text are not expected by `DistilBertForSequenceClassification.forward`,  you can safely ignore this message.\n",
      "***** Running training *****\n",
      "  Num examples = 460\n",
      "  Num Epochs = 10\n",
      "  Instantaneous batch size per device = 32\n",
      "  Total train batch size (w. parallel, distributed & accumulation) = 32\n",
      "  Gradient Accumulation steps = 1\n",
      "  Total optimization steps = 150\n",
      "  Number of trainable parameters = 66,955,010\n"
     ]
    },
    {
     "data": {
      "text/html": [
       "\n",
       "    <div>\n",
       "      \n",
       "      <progress value='150' max='150' style='width:300px; height:20px; vertical-align: middle;'></progress>\n",
       "      [150/150 14:35, Epoch 10/10]\n",
       "    </div>\n",
       "    <table border=\"1\" class=\"dataframe\">\n",
       "  <thead>\n",
       " <tr style=\"text-align: left;\">\n",
       "      <th>Epoch</th>\n",
       "      <th>Training Loss</th>\n",
       "      <th>Validation Loss</th>\n",
       "      <th>Accuracy</th>\n",
       "      <th>F1</th>\n",
       "      <th>Precision</th>\n",
       "      <th>Recall</th>\n",
       "    </tr>\n",
       "  </thead>\n",
       "  <tbody>\n",
       "    <tr>\n",
       "      <td>1</td>\n",
       "      <td>0.678500</td>\n",
       "      <td>0.560073</td>\n",
       "      <td>0.904348</td>\n",
       "      <td>0.000000</td>\n",
       "      <td>0.000000</td>\n",
       "      <td>0.000000</td>\n",
       "    </tr>\n",
       "    <tr>\n",
       "      <td>2</td>\n",
       "      <td>0.591100</td>\n",
       "      <td>0.311365</td>\n",
       "      <td>0.904348</td>\n",
       "      <td>0.000000</td>\n",
       "      <td>0.000000</td>\n",
       "      <td>0.000000</td>\n",
       "    </tr>\n",
       "    <tr>\n",
       "      <td>3</td>\n",
       "      <td>0.097800</td>\n",
       "      <td>0.238764</td>\n",
       "      <td>0.904348</td>\n",
       "      <td>0.000000</td>\n",
       "      <td>0.000000</td>\n",
       "      <td>0.000000</td>\n",
       "    </tr>\n",
       "    <tr>\n",
       "      <td>4</td>\n",
       "      <td>0.218300</td>\n",
       "      <td>0.263980</td>\n",
       "      <td>0.895652</td>\n",
       "      <td>0.250000</td>\n",
       "      <td>0.400000</td>\n",
       "      <td>0.181818</td>\n",
       "    </tr>\n",
       "    <tr>\n",
       "      <td>5</td>\n",
       "      <td>0.007700</td>\n",
       "      <td>0.288004</td>\n",
       "      <td>0.913043</td>\n",
       "      <td>0.375000</td>\n",
       "      <td>0.600000</td>\n",
       "      <td>0.272727</td>\n",
       "    </tr>\n",
       "    <tr>\n",
       "      <td>6</td>\n",
       "      <td>0.004800</td>\n",
       "      <td>0.374909</td>\n",
       "      <td>0.895652</td>\n",
       "      <td>0.250000</td>\n",
       "      <td>0.400000</td>\n",
       "      <td>0.181818</td>\n",
       "    </tr>\n",
       "    <tr>\n",
       "      <td>7</td>\n",
       "      <td>0.003800</td>\n",
       "      <td>0.375303</td>\n",
       "      <td>0.930435</td>\n",
       "      <td>0.555556</td>\n",
       "      <td>0.714286</td>\n",
       "      <td>0.454545</td>\n",
       "    </tr>\n",
       "    <tr>\n",
       "      <td>8</td>\n",
       "      <td>0.002600</td>\n",
       "      <td>0.422077</td>\n",
       "      <td>0.921739</td>\n",
       "      <td>0.470588</td>\n",
       "      <td>0.666667</td>\n",
       "      <td>0.363636</td>\n",
       "    </tr>\n",
       "    <tr>\n",
       "      <td>9</td>\n",
       "      <td>0.000700</td>\n",
       "      <td>0.446816</td>\n",
       "      <td>0.921739</td>\n",
       "      <td>0.470588</td>\n",
       "      <td>0.666667</td>\n",
       "      <td>0.363636</td>\n",
       "    </tr>\n",
       "    <tr>\n",
       "      <td>10</td>\n",
       "      <td>0.000900</td>\n",
       "      <td>0.412505</td>\n",
       "      <td>0.930435</td>\n",
       "      <td>0.555556</td>\n",
       "      <td>0.714286</td>\n",
       "      <td>0.454545</td>\n",
       "    </tr>\n",
       "  </tbody>\n",
       "</table><p>"
      ],
      "text/plain": [
       "<IPython.core.display.HTML object>"
      ]
     },
     "metadata": {},
     "output_type": "display_data"
    },
    {
     "name": "stderr",
     "output_type": "stream",
     "text": [
      "The following columns in the evaluation set don't have a corresponding argument in `DistilBertForSequenceClassification.forward` and have been ignored: input_text. If input_text are not expected by `DistilBertForSequenceClassification.forward`,  you can safely ignore this message.\n",
      "\n",
      "***** Running Evaluation *****\n",
      "  Num examples = 115\n",
      "  Batch size = 115\n",
      "C:\\Users\\draw0004\\anaconda3\\envs\\AdditionalLibraries\\Lib\\site-packages\\sklearn\\metrics\\_classification.py:1565: UndefinedMetricWarning: Precision is ill-defined and being set to 0.0 due to no predicted samples. Use `zero_division` parameter to control this behavior.\n",
      "  _warn_prf(average, modifier, f\"{metric.capitalize()} is\", len(result))\n",
      "Saving model checkpoint to trainer_output\\checkpoint-15\n",
      "Configuration saved in trainer_output\\checkpoint-15\\config.json\n",
      "Model weights saved in trainer_output\\checkpoint-15\\model.safetensors\n",
      "Saving Trainer.data_collator.tokenizer by default as Trainer.processing_class is `None`\n",
      "tokenizer config file saved in trainer_output\\checkpoint-15\\tokenizer_config.json\n",
      "Special tokens file saved in trainer_output\\checkpoint-15\\special_tokens_map.json\n",
      "The following columns in the evaluation set don't have a corresponding argument in `DistilBertForSequenceClassification.forward` and have been ignored: input_text. If input_text are not expected by `DistilBertForSequenceClassification.forward`,  you can safely ignore this message.\n",
      "\n",
      "***** Running Evaluation *****\n",
      "  Num examples = 115\n",
      "  Batch size = 115\n",
      "C:\\Users\\draw0004\\anaconda3\\envs\\AdditionalLibraries\\Lib\\site-packages\\sklearn\\metrics\\_classification.py:1565: UndefinedMetricWarning: Precision is ill-defined and being set to 0.0 due to no predicted samples. Use `zero_division` parameter to control this behavior.\n",
      "  _warn_prf(average, modifier, f\"{metric.capitalize()} is\", len(result))\n",
      "Saving model checkpoint to trainer_output\\checkpoint-30\n",
      "Configuration saved in trainer_output\\checkpoint-30\\config.json\n",
      "Model weights saved in trainer_output\\checkpoint-30\\model.safetensors\n",
      "Saving Trainer.data_collator.tokenizer by default as Trainer.processing_class is `None`\n",
      "tokenizer config file saved in trainer_output\\checkpoint-30\\tokenizer_config.json\n",
      "Special tokens file saved in trainer_output\\checkpoint-30\\special_tokens_map.json\n",
      "The following columns in the evaluation set don't have a corresponding argument in `DistilBertForSequenceClassification.forward` and have been ignored: input_text. If input_text are not expected by `DistilBertForSequenceClassification.forward`,  you can safely ignore this message.\n",
      "\n",
      "***** Running Evaluation *****\n",
      "  Num examples = 115\n",
      "  Batch size = 115\n",
      "C:\\Users\\draw0004\\anaconda3\\envs\\AdditionalLibraries\\Lib\\site-packages\\sklearn\\metrics\\_classification.py:1565: UndefinedMetricWarning: Precision is ill-defined and being set to 0.0 due to no predicted samples. Use `zero_division` parameter to control this behavior.\n",
      "  _warn_prf(average, modifier, f\"{metric.capitalize()} is\", len(result))\n",
      "Saving model checkpoint to trainer_output\\checkpoint-45\n",
      "Configuration saved in trainer_output\\checkpoint-45\\config.json\n",
      "Model weights saved in trainer_output\\checkpoint-45\\model.safetensors\n",
      "Saving Trainer.data_collator.tokenizer by default as Trainer.processing_class is `None`\n",
      "tokenizer config file saved in trainer_output\\checkpoint-45\\tokenizer_config.json\n",
      "Special tokens file saved in trainer_output\\checkpoint-45\\special_tokens_map.json\n",
      "The following columns in the evaluation set don't have a corresponding argument in `DistilBertForSequenceClassification.forward` and have been ignored: input_text. If input_text are not expected by `DistilBertForSequenceClassification.forward`,  you can safely ignore this message.\n",
      "\n",
      "***** Running Evaluation *****\n",
      "  Num examples = 115\n",
      "  Batch size = 115\n",
      "Saving model checkpoint to trainer_output\\checkpoint-60\n",
      "Configuration saved in trainer_output\\checkpoint-60\\config.json\n",
      "Model weights saved in trainer_output\\checkpoint-60\\model.safetensors\n",
      "Saving Trainer.data_collator.tokenizer by default as Trainer.processing_class is `None`\n",
      "tokenizer config file saved in trainer_output\\checkpoint-60\\tokenizer_config.json\n",
      "Special tokens file saved in trainer_output\\checkpoint-60\\special_tokens_map.json\n",
      "The following columns in the evaluation set don't have a corresponding argument in `DistilBertForSequenceClassification.forward` and have been ignored: input_text. If input_text are not expected by `DistilBertForSequenceClassification.forward`,  you can safely ignore this message.\n",
      "\n",
      "***** Running Evaluation *****\n",
      "  Num examples = 115\n",
      "  Batch size = 115\n",
      "Saving model checkpoint to trainer_output\\checkpoint-75\n",
      "Configuration saved in trainer_output\\checkpoint-75\\config.json\n",
      "Model weights saved in trainer_output\\checkpoint-75\\model.safetensors\n",
      "Saving Trainer.data_collator.tokenizer by default as Trainer.processing_class is `None`\n",
      "tokenizer config file saved in trainer_output\\checkpoint-75\\tokenizer_config.json\n",
      "Special tokens file saved in trainer_output\\checkpoint-75\\special_tokens_map.json\n",
      "The following columns in the evaluation set don't have a corresponding argument in `DistilBertForSequenceClassification.forward` and have been ignored: input_text. If input_text are not expected by `DistilBertForSequenceClassification.forward`,  you can safely ignore this message.\n",
      "\n",
      "***** Running Evaluation *****\n",
      "  Num examples = 115\n",
      "  Batch size = 115\n",
      "Saving model checkpoint to trainer_output\\checkpoint-90\n",
      "Configuration saved in trainer_output\\checkpoint-90\\config.json\n",
      "Model weights saved in trainer_output\\checkpoint-90\\model.safetensors\n",
      "Saving Trainer.data_collator.tokenizer by default as Trainer.processing_class is `None`\n",
      "tokenizer config file saved in trainer_output\\checkpoint-90\\tokenizer_config.json\n",
      "Special tokens file saved in trainer_output\\checkpoint-90\\special_tokens_map.json\n",
      "The following columns in the evaluation set don't have a corresponding argument in `DistilBertForSequenceClassification.forward` and have been ignored: input_text. If input_text are not expected by `DistilBertForSequenceClassification.forward`,  you can safely ignore this message.\n",
      "\n",
      "***** Running Evaluation *****\n",
      "  Num examples = 115\n",
      "  Batch size = 115\n",
      "Saving model checkpoint to trainer_output\\checkpoint-105\n",
      "Configuration saved in trainer_output\\checkpoint-105\\config.json\n",
      "Model weights saved in trainer_output\\checkpoint-105\\model.safetensors\n",
      "Saving Trainer.data_collator.tokenizer by default as Trainer.processing_class is `None`\n",
      "tokenizer config file saved in trainer_output\\checkpoint-105\\tokenizer_config.json\n",
      "Special tokens file saved in trainer_output\\checkpoint-105\\special_tokens_map.json\n",
      "The following columns in the evaluation set don't have a corresponding argument in `DistilBertForSequenceClassification.forward` and have been ignored: input_text. If input_text are not expected by `DistilBertForSequenceClassification.forward`,  you can safely ignore this message.\n",
      "\n",
      "***** Running Evaluation *****\n",
      "  Num examples = 115\n",
      "  Batch size = 115\n",
      "Saving model checkpoint to trainer_output\\checkpoint-120\n",
      "Configuration saved in trainer_output\\checkpoint-120\\config.json\n",
      "Model weights saved in trainer_output\\checkpoint-120\\model.safetensors\n",
      "Saving Trainer.data_collator.tokenizer by default as Trainer.processing_class is `None`\n",
      "tokenizer config file saved in trainer_output\\checkpoint-120\\tokenizer_config.json\n",
      "Special tokens file saved in trainer_output\\checkpoint-120\\special_tokens_map.json\n",
      "The following columns in the evaluation set don't have a corresponding argument in `DistilBertForSequenceClassification.forward` and have been ignored: input_text. If input_text are not expected by `DistilBertForSequenceClassification.forward`,  you can safely ignore this message.\n",
      "\n",
      "***** Running Evaluation *****\n",
      "  Num examples = 115\n",
      "  Batch size = 115\n",
      "Saving model checkpoint to trainer_output\\checkpoint-135\n",
      "Configuration saved in trainer_output\\checkpoint-135\\config.json\n",
      "Model weights saved in trainer_output\\checkpoint-135\\model.safetensors\n",
      "Saving Trainer.data_collator.tokenizer by default as Trainer.processing_class is `None`\n",
      "tokenizer config file saved in trainer_output\\checkpoint-135\\tokenizer_config.json\n",
      "Special tokens file saved in trainer_output\\checkpoint-135\\special_tokens_map.json\n",
      "The following columns in the evaluation set don't have a corresponding argument in `DistilBertForSequenceClassification.forward` and have been ignored: input_text. If input_text are not expected by `DistilBertForSequenceClassification.forward`,  you can safely ignore this message.\n",
      "\n",
      "***** Running Evaluation *****\n",
      "  Num examples = 115\n",
      "  Batch size = 115\n",
      "Saving model checkpoint to trainer_output\\checkpoint-150\n",
      "Configuration saved in trainer_output\\checkpoint-150\\config.json\n",
      "Model weights saved in trainer_output\\checkpoint-150\\model.safetensors\n",
      "Saving Trainer.data_collator.tokenizer by default as Trainer.processing_class is `None`\n",
      "tokenizer config file saved in trainer_output\\checkpoint-150\\tokenizer_config.json\n",
      "Special tokens file saved in trainer_output\\checkpoint-150\\special_tokens_map.json\n",
      "\n",
      "\n",
      "Training completed. Do not forget to share your model on huggingface.co/models =)\n",
      "\n",
      "\n",
      "Loading best model from trainer_output\\checkpoint-105 (score: 0.5555555555555556).\n"
     ]
    }
   ],
   "source": [
    "#Training model and testing on validation set.\n",
    "if USE_SAVED_MODEL == False:\n",
    "\n",
    "    epochs = 10\n",
    "    training_args = TrainingArguments(\n",
    "                            #output_dir = \"./article_classifier/results\",\n",
    "                            num_train_epochs = epochs,\n",
    "                            per_device_train_batch_size = 32, #len(tokenized_cat_article_dataset['train']),\n",
    "                            per_device_eval_batch_size = len(tokenized_cat_article_dataset['test']),\n",
    "                            load_best_model_at_end = True,\n",
    "                            seed = 42,\n",
    "                            warmup_steps = len(tokenized_cat_article_dataset['train'])//5,\n",
    "                            weight_decay = 0.05,\n",
    "                            logging_steps = 1,\n",
    "                            log_level = 'info',\n",
    "                            eval_strategy = 'epoch',\n",
    "                            save_strategy = 'epoch',\n",
    "                            metric_for_best_model = 'f1'\n",
    "                        )\n",
    "    \n",
    "    trainer = Trainer(\n",
    "        model = seq_clf_model,\n",
    "        args = training_args,\n",
    "        train_dataset = tokenized_cat_article_dataset['train'],\n",
    "        eval_dataset = tokenized_cat_article_dataset['test'],\n",
    "        compute_metrics = compute_metrics,\n",
    "        data_collator = data_collator\n",
    "    )\n",
    "    \n",
    "    trainer.train()"
   ]
  },
  {
   "cell_type": "code",
   "execution_count": 26,
   "id": "9b9c626b-fd93-451c-9e10-bc7a02560c98",
   "metadata": {},
   "outputs": [
    {
     "name": "stderr",
     "output_type": "stream",
     "text": [
      "loading configuration file config.json from cache at C:\\Users\\draw0004\\.cache\\huggingface\\hub\\models--distilbert-base-uncased\\snapshots\\12040accade4e8a0f71eabdb258fecc2e7e948be\\config.json\n",
      "Model config DistilBertConfig {\n",
      "  \"activation\": \"gelu\",\n",
      "  \"architectures\": [\n",
      "    \"DistilBertForMaskedLM\"\n",
      "  ],\n",
      "  \"attention_dropout\": 0.1,\n",
      "  \"dim\": 768,\n",
      "  \"dropout\": 0.1,\n",
      "  \"hidden_dim\": 3072,\n",
      "  \"initializer_range\": 0.02,\n",
      "  \"max_position_embeddings\": 512,\n",
      "  \"model_type\": \"distilbert\",\n",
      "  \"n_heads\": 12,\n",
      "  \"n_layers\": 6,\n",
      "  \"pad_token_id\": 0,\n",
      "  \"qa_dropout\": 0.1,\n",
      "  \"seq_classif_dropout\": 0.2,\n",
      "  \"sinusoidal_pos_embds\": false,\n",
      "  \"tie_weights_\": true,\n",
      "  \"transformers_version\": \"4.51.3\",\n",
      "  \"vocab_size\": 30522\n",
      "}\n",
      "\n",
      "loading weights file model.safetensors from cache at C:\\Users\\draw0004\\.cache\\huggingface\\hub\\models--distilbert-base-uncased\\snapshots\\12040accade4e8a0f71eabdb258fecc2e7e948be\\model.safetensors\n",
      "Some weights of the model checkpoint at distilbert-base-uncased were not used when initializing DistilBertForSequenceClassification: ['vocab_layer_norm.bias', 'vocab_layer_norm.weight', 'vocab_projector.bias', 'vocab_transform.bias', 'vocab_transform.weight']\n",
      "- This IS expected if you are initializing DistilBertForSequenceClassification from the checkpoint of a model trained on another task or with another architecture (e.g. initializing a BertForSequenceClassification model from a BertForPreTraining model).\n",
      "- This IS NOT expected if you are initializing DistilBertForSequenceClassification from the checkpoint of a model that you expect to be exactly identical (initializing a BertForSequenceClassification model from a BertForSequenceClassification model).\n",
      "Some weights of DistilBertForSequenceClassification were not initialized from the model checkpoint at distilbert-base-uncased and are newly initialized: ['classifier.bias', 'classifier.weight', 'pre_classifier.bias', 'pre_classifier.weight']\n",
      "You should probably TRAIN this model on a down-stream task to be able to use it for predictions and inference.\n",
      "Map: 100%|██████████| 575/575 [00:00<00:00, 5729.46 examples/s]\n",
      "PyTorch: setting up devices\n",
      "The default value for the training argument `--report_to` will change in v5 (from all installed integrations to none). In v5, you will need to use `--report_to all` to get the same behavior as now. You should start updating your code and make this info disappear :-).\n",
      "The following columns in the training set don't have a corresponding argument in `DistilBertForSequenceClassification.forward` and have been ignored: input_text. If input_text are not expected by `DistilBertForSequenceClassification.forward`,  you can safely ignore this message.\n",
      "***** Running training *****\n",
      "  Num examples = 575\n",
      "  Num Epochs = 8\n",
      "  Instantaneous batch size per device = 32\n",
      "  Total train batch size (w. parallel, distributed & accumulation) = 32\n",
      "  Gradient Accumulation steps = 1\n",
      "  Total optimization steps = 144\n",
      "  Number of trainable parameters = 66,955,010\n"
     ]
    },
    {
     "data": {
      "text/html": [
       "\n",
       "    <div>\n",
       "      \n",
       "      <progress value='144' max='144' style='width:300px; height:20px; vertical-align: middle;'></progress>\n",
       "      [144/144 11:18, Epoch 8/8]\n",
       "    </div>\n",
       "    <table border=\"1\" class=\"dataframe\">\n",
       "  <thead>\n",
       " <tr style=\"text-align: left;\">\n",
       "      <th>Step</th>\n",
       "      <th>Training Loss</th>\n",
       "    </tr>\n",
       "  </thead>\n",
       "  <tbody>\n",
       "    <tr>\n",
       "      <td>18</td>\n",
       "      <td>0.671000</td>\n",
       "    </tr>\n",
       "    <tr>\n",
       "      <td>36</td>\n",
       "      <td>0.409600</td>\n",
       "    </tr>\n",
       "    <tr>\n",
       "      <td>54</td>\n",
       "      <td>0.283200</td>\n",
       "    </tr>\n",
       "    <tr>\n",
       "      <td>72</td>\n",
       "      <td>0.178200</td>\n",
       "    </tr>\n",
       "    <tr>\n",
       "      <td>90</td>\n",
       "      <td>0.095900</td>\n",
       "    </tr>\n",
       "    <tr>\n",
       "      <td>108</td>\n",
       "      <td>0.028400</td>\n",
       "    </tr>\n",
       "    <tr>\n",
       "      <td>126</td>\n",
       "      <td>0.005900</td>\n",
       "    </tr>\n",
       "    <tr>\n",
       "      <td>144</td>\n",
       "      <td>0.016000</td>\n",
       "    </tr>\n",
       "  </tbody>\n",
       "</table><p>"
      ],
      "text/plain": [
       "<IPython.core.display.HTML object>"
      ]
     },
     "metadata": {},
     "output_type": "display_data"
    },
    {
     "name": "stderr",
     "output_type": "stream",
     "text": [
      "Saving model checkpoint to ./article_classifier/results\\checkpoint-18\n",
      "Configuration saved in ./article_classifier/results\\checkpoint-18\\config.json\n",
      "Model weights saved in ./article_classifier/results\\checkpoint-18\\model.safetensors\n",
      "Saving Trainer.data_collator.tokenizer by default as Trainer.processing_class is `None`\n",
      "tokenizer config file saved in ./article_classifier/results\\checkpoint-18\\tokenizer_config.json\n",
      "Special tokens file saved in ./article_classifier/results\\checkpoint-18\\special_tokens_map.json\n",
      "Saving model checkpoint to ./article_classifier/results\\checkpoint-36\n",
      "Configuration saved in ./article_classifier/results\\checkpoint-36\\config.json\n",
      "Model weights saved in ./article_classifier/results\\checkpoint-36\\model.safetensors\n",
      "Saving Trainer.data_collator.tokenizer by default as Trainer.processing_class is `None`\n",
      "tokenizer config file saved in ./article_classifier/results\\checkpoint-36\\tokenizer_config.json\n",
      "Special tokens file saved in ./article_classifier/results\\checkpoint-36\\special_tokens_map.json\n",
      "Saving model checkpoint to ./article_classifier/results\\checkpoint-54\n",
      "Configuration saved in ./article_classifier/results\\checkpoint-54\\config.json\n",
      "Model weights saved in ./article_classifier/results\\checkpoint-54\\model.safetensors\n",
      "Saving Trainer.data_collator.tokenizer by default as Trainer.processing_class is `None`\n",
      "tokenizer config file saved in ./article_classifier/results\\checkpoint-54\\tokenizer_config.json\n",
      "Special tokens file saved in ./article_classifier/results\\checkpoint-54\\special_tokens_map.json\n",
      "Saving model checkpoint to ./article_classifier/results\\checkpoint-72\n",
      "Configuration saved in ./article_classifier/results\\checkpoint-72\\config.json\n",
      "Model weights saved in ./article_classifier/results\\checkpoint-72\\model.safetensors\n",
      "Saving Trainer.data_collator.tokenizer by default as Trainer.processing_class is `None`\n",
      "tokenizer config file saved in ./article_classifier/results\\checkpoint-72\\tokenizer_config.json\n",
      "Special tokens file saved in ./article_classifier/results\\checkpoint-72\\special_tokens_map.json\n",
      "Saving model checkpoint to ./article_classifier/results\\checkpoint-90\n",
      "Configuration saved in ./article_classifier/results\\checkpoint-90\\config.json\n",
      "Model weights saved in ./article_classifier/results\\checkpoint-90\\model.safetensors\n",
      "Saving Trainer.data_collator.tokenizer by default as Trainer.processing_class is `None`\n",
      "tokenizer config file saved in ./article_classifier/results\\checkpoint-90\\tokenizer_config.json\n",
      "Special tokens file saved in ./article_classifier/results\\checkpoint-90\\special_tokens_map.json\n",
      "Saving model checkpoint to ./article_classifier/results\\checkpoint-108\n",
      "Configuration saved in ./article_classifier/results\\checkpoint-108\\config.json\n",
      "Model weights saved in ./article_classifier/results\\checkpoint-108\\model.safetensors\n",
      "Saving Trainer.data_collator.tokenizer by default as Trainer.processing_class is `None`\n",
      "tokenizer config file saved in ./article_classifier/results\\checkpoint-108\\tokenizer_config.json\n",
      "Special tokens file saved in ./article_classifier/results\\checkpoint-108\\special_tokens_map.json\n",
      "Saving model checkpoint to ./article_classifier/results\\checkpoint-126\n",
      "Configuration saved in ./article_classifier/results\\checkpoint-126\\config.json\n",
      "Model weights saved in ./article_classifier/results\\checkpoint-126\\model.safetensors\n",
      "Saving Trainer.data_collator.tokenizer by default as Trainer.processing_class is `None`\n",
      "tokenizer config file saved in ./article_classifier/results\\checkpoint-126\\tokenizer_config.json\n",
      "Special tokens file saved in ./article_classifier/results\\checkpoint-126\\special_tokens_map.json\n",
      "Saving model checkpoint to ./article_classifier/results\\checkpoint-144\n",
      "Configuration saved in ./article_classifier/results\\checkpoint-144\\config.json\n",
      "Model weights saved in ./article_classifier/results\\checkpoint-144\\model.safetensors\n",
      "Saving Trainer.data_collator.tokenizer by default as Trainer.processing_class is `None`\n",
      "tokenizer config file saved in ./article_classifier/results\\checkpoint-144\\tokenizer_config.json\n",
      "Special tokens file saved in ./article_classifier/results\\checkpoint-144\\special_tokens_map.json\n",
      "\n",
      "\n",
      "Training completed. Do not forget to share your model on huggingface.co/models =)\n",
      "\n",
      "\n",
      "Saving model checkpoint to ./article_classifier/final_model\n",
      "Configuration saved in ./article_classifier/final_model\\config.json\n",
      "Model weights saved in ./article_classifier/final_model\\model.safetensors\n",
      "Saving Trainer.data_collator.tokenizer by default as Trainer.processing_class is `None`\n",
      "tokenizer config file saved in ./article_classifier/final_model\\tokenizer_config.json\n",
      "Special tokens file saved in ./article_classifier/final_model\\special_tokens_map.json\n"
     ]
    }
   ],
   "source": [
    "if USE_SAVED_MODEL == False:\n",
    "\n",
    "    seq_clf_model = DistilBertForSequenceClassification.from_pretrained('distilbert-base-uncased', num_labels = len(unique_label_list))\n",
    "    seq_clf_model.config.id2label = {i: l for i, l in enumerate(unique_label_list)}\n",
    "\n",
    "    #Train on the complete data\n",
    "    full_dataset = Dataset.from_dict({\"input_text\": input_text_list, \"label\": encoded_label_list})\n",
    "    tokenized_full_dataset = full_dataset.map(pre_process_function, batched=True)\n",
    "    \n",
    "    training_args = TrainingArguments(\n",
    "                            output_dir = \"./article_classifier/results\",\n",
    "                            num_train_epochs = 8,\n",
    "                            per_device_train_batch_size = 32, #len(tokenized_cat_article_dataset['train']),\n",
    "                            seed = 42,\n",
    "                            warmup_steps = len(tokenized_full_dataset)//5,\n",
    "                            weight_decay = 0.05,\n",
    "                            logging_strategy = 'epoch',\n",
    "                            log_level = 'info',\n",
    "                            eval_strategy = 'no',\n",
    "                            save_strategy = 'epoch')\n",
    "    \n",
    "    trainer = Trainer(\n",
    "        model = seq_clf_model,\n",
    "        args = training_args,\n",
    "        train_dataset = tokenized_full_dataset,\n",
    "        compute_metrics = compute_metrics,\n",
    "        data_collator = data_collator\n",
    "    )\n",
    "    \n",
    "    trainer.train()\n",
    "    trainer.save_model(\"./article_classifier/final_model\")"
   ]
  },
  {
   "cell_type": "code",
   "execution_count": 27,
   "id": "f7003376-1bd7-4320-9a31-c7ef75b9c7d6",
   "metadata": {},
   "outputs": [
    {
     "name": "stderr",
     "output_type": "stream",
     "text": [
      "loading configuration file ./article_classifier/final_model\\config.json\n",
      "Model config DistilBertConfig {\n",
      "  \"activation\": \"gelu\",\n",
      "  \"architectures\": [\n",
      "    \"DistilBertForSequenceClassification\"\n",
      "  ],\n",
      "  \"attention_dropout\": 0.1,\n",
      "  \"dim\": 768,\n",
      "  \"dropout\": 0.1,\n",
      "  \"hidden_dim\": 3072,\n",
      "  \"id2label\": {\n",
      "    \"0\": \"NO\",\n",
      "    \"1\": \"YES\"\n",
      "  },\n",
      "  \"initializer_range\": 0.02,\n",
      "  \"label2id\": null,\n",
      "  \"max_position_embeddings\": 512,\n",
      "  \"model_type\": \"distilbert\",\n",
      "  \"n_heads\": 12,\n",
      "  \"n_layers\": 6,\n",
      "  \"pad_token_id\": 0,\n",
      "  \"problem_type\": \"single_label_classification\",\n",
      "  \"qa_dropout\": 0.1,\n",
      "  \"seq_classif_dropout\": 0.2,\n",
      "  \"sinusoidal_pos_embds\": false,\n",
      "  \"tie_weights_\": true,\n",
      "  \"torch_dtype\": \"float32\",\n",
      "  \"transformers_version\": \"4.51.3\",\n",
      "  \"vocab_size\": 30522\n",
      "}\n",
      "\n",
      "loading configuration file ./article_classifier/final_model\\config.json\n",
      "Model config DistilBertConfig {\n",
      "  \"activation\": \"gelu\",\n",
      "  \"architectures\": [\n",
      "    \"DistilBertForSequenceClassification\"\n",
      "  ],\n",
      "  \"attention_dropout\": 0.1,\n",
      "  \"dim\": 768,\n",
      "  \"dropout\": 0.1,\n",
      "  \"hidden_dim\": 3072,\n",
      "  \"id2label\": {\n",
      "    \"0\": \"NO\",\n",
      "    \"1\": \"YES\"\n",
      "  },\n",
      "  \"initializer_range\": 0.02,\n",
      "  \"label2id\": null,\n",
      "  \"max_position_embeddings\": 512,\n",
      "  \"model_type\": \"distilbert\",\n",
      "  \"n_heads\": 12,\n",
      "  \"n_layers\": 6,\n",
      "  \"pad_token_id\": 0,\n",
      "  \"problem_type\": \"single_label_classification\",\n",
      "  \"qa_dropout\": 0.1,\n",
      "  \"seq_classif_dropout\": 0.2,\n",
      "  \"sinusoidal_pos_embds\": false,\n",
      "  \"tie_weights_\": true,\n",
      "  \"torch_dtype\": \"float32\",\n",
      "  \"transformers_version\": \"4.51.3\",\n",
      "  \"vocab_size\": 30522\n",
      "}\n",
      "\n",
      "loading weights file ./article_classifier/final_model\\model.safetensors\n",
      "All model checkpoint weights were used when initializing DistilBertForSequenceClassification.\n",
      "\n",
      "All the weights of DistilBertForSequenceClassification were initialized from the model checkpoint at ./article_classifier/final_model.\n",
      "If your task is similar to the task the model of the checkpoint was trained on, you can already use DistilBertForSequenceClassification for predictions without further training.\n",
      "Device set to use cpu\n"
     ]
    },
    {
     "name": "stdout",
     "output_type": "stream",
     "text": [
      "[{'label': 'NO', 'score': 0.9991588592529297}]\n",
      "[{'label': 'NO', 'score': 0.9991520643234253}]\n",
      "[{'label': 'YES', 'score': 0.9938179850578308}]\n",
      "[{'label': 'YES', 'score': 0.9939447045326233}]\n",
      "[{'label': 'YES', 'score': 0.9940987825393677}]\n"
     ]
    }
   ],
   "source": [
    "pipe = pipeline(\"text-classification\", \"./article_classifier/final_model\", tokenizer = tokenizer)\n",
    "\n",
    "#Test with some examples\n",
    "print(pipe(\"Sandeep Singh: An Olympic shooting dream visualised at his frozen Siachen post. The 28-year-old Armyman topped the 10m air rifle trials against far higher rated rivals to bag a Paris Games spot\"))\n",
    "print(pipe(\"High jumper Nicola Olyslagers: ‘I want to do something I’ve never done before’. The Australian is pushing herself to new heights as she prepares for a tilt at Olympic glory in Paris – and personal fulfilment\"))\n",
    "print(pipe(\"Paris Olympics Closing Ceremony Doubles Tokyo Audience. The Paris Olympics concluded the 2024 Games with a highly viewed Closing Ceremony, which brought in 20.8 million viewers\"))\n",
    "print(pipe(\"Teenager arrested in France on suspicion of Olympics attack plot. Interior ministry says 18-year-old Chechen suspected of planning ‘Islamist-inspired’ attack in Saint-Étienne\"))\n",
    "print(pipe(\"French sports minister swims in Seine River ahead of Paris Olympics. French sports minister Amélie Oudéa-Castéra has taken a symbolic dip in the Seine in a bid to ease concerns about water quality before the start of the Paris...\"))"
   ]
  },
  {
   "cell_type": "markdown",
   "id": "8a650348-4536-4876-af25-c3e239534f0d",
   "metadata": {},
   "source": [
    "### 2.3 Filter out articles that do NOT pertain to topics that impact the public perception of the Paris 2024 Olympics "
   ]
  },
  {
   "cell_type": "code",
   "execution_count": 62,
   "id": "15c50239-deeb-461a-a99b-c0f9ae79c179",
   "metadata": {},
   "outputs": [
    {
     "name": "stdout",
     "output_type": "stream",
     "text": [
      "Number of articles relevant to the Olympics = 451\n",
      "\n",
      "Let's take a look at the title and the description of the first five articles:\n",
      "'City of Light' was star of Olympics show\n",
      "'City of Light' was star of Olympics show\n",
      "----------------------------------------------\n",
      "I’ve covered 10 Olympics over 32 years. These Paris Games outdid them all\n",
      "With thrilling competition, spectacular venues and viral moments the 2024 Paris Games more than delivered.\n",
      "----------------------------------------------\n",
      "Star-studded closing ceremony brings 2024 Paris Olympics to end with a flourish\n",
      "Paris closed out two and a half extraordinary weeks of Olympic sports and emotion with a boisterous, star-studded show in France’s national stadium on Sunday, handing over hosting duties for the Summer Games to the next city in line: Los Angeles in 2028.\n",
      "----------------------------------------------\n",
      "Olympics closing ceremony: 5 takeaways from an extremely memorable party\n",
      "It was a party in the Stade de France as an electric two weeks of the Summer Olympics wrapped up on Sunday with a celebration of the athletes, the people who made the Games happen and a preview of what to expect in four years.\n",
      "----------------------------------------------\n",
      "Olympics 2024 LIVE: Closing ceremony sees Tom Cruise make showstopping appearance as the Games handed over to Hollywood\n",
      "THE Olympics has finished up with a dazzling closing ceremony!Hollywood superstar Tom Cruise performed an incredible stunt - leaping from the top of t\n",
      "----------------------------------------------\n",
      "here\n"
     ]
    }
   ],
   "source": [
    "if DETERMINE_IMAGE_REL_ARTICLES == True:\n",
    "\n",
    "    image_rel_article_list = []\n",
    "    \n",
    "    for article in article_list:\n",
    "    \n",
    "        text_to_be_classified = article['title'] + '. ' + article['description']\n",
    "        test_class_dict = pipe(text_to_be_classified)[0]\n",
    "        if test_class_dict['label'] == 'YES':\n",
    "            image_rel_article_list.append(article)\n",
    "    \n",
    "    print(f\"Number of articles relevant to the Olympics = {len(image_rel_article_list)}\")\n",
    "    print(f\"\\nLet's take a look at the title and the description of the first five articles:\")\n",
    "    \n",
    "    for index in range(5):\n",
    "        print(image_rel_article_list[index]['title'])\n",
    "        print(image_rel_article_list[index]['description'])\n",
    "        print(\"----------------------------------------------\")"
   ]
  },
  {
   "cell_type": "code",
   "execution_count": 63,
   "id": "be858809-240d-47ad-8ebb-40d9689c94b9",
   "metadata": {},
   "outputs": [],
   "source": [
    "if DETERMINE_IMAGE_REL_ARTICLES == True:\n",
    "    \n",
    "    with open('image_rel_articles.json', 'w', encoding='utf-8') as f:\n",
    "        json.dump(image_rel_article_list, f, ensure_ascii=False, indent=4)"
   ]
  },
  {
   "cell_type": "markdown",
   "id": "699358c8-e9f6-400b-8564-54dc3c7e9ddf",
   "metadata": {},
   "source": [
    "## 3. Sentiment analysis on the articles"
   ]
  },
  {
   "cell_type": "code",
   "execution_count": 67,
   "id": "6878251c-f4ad-4fb8-80e4-b5b07d5992f8",
   "metadata": {},
   "outputs": [],
   "source": [
    "# Save the updated list back to the file\n",
    "with open(\"image_rel_articles_classified.json\", \"r\", encoding=\"utf-8\") as f:\n",
    "      image_rel_articles_classified_list = json.load(f)"
   ]
  },
  {
   "cell_type": "code",
   "execution_count": 68,
   "id": "9e7a332c-8bbf-4f9e-a83e-7a5caa69a603",
   "metadata": {},
   "outputs": [
    {
     "name": "stdout",
     "output_type": "stream",
     "text": [
      "Total number of classified articles = 231\n"
     ]
    }
   ],
   "source": [
    "num_class_articles = len(image_rel_articles_classified_list)\n",
    "print(f\"Total number of classified articles = {num_class_articles}\")"
   ]
  },
  {
   "cell_type": "markdown",
   "id": "1ca86646-e2c6-499f-bb95-a3b4c8d49746",
   "metadata": {},
   "source": [
    "### 3.1 Analyse content sentiment"
   ]
  },
  {
   "cell_type": "code",
   "execution_count": 69,
   "id": "cc570c81-0152-48e2-b334-57bfc58ae490",
   "metadata": {},
   "outputs": [],
   "source": [
    "def get_statistics_by_sentiment(article_list):\n",
    "\n",
    "    num_pos_sent = 0\n",
    "    num_neut_sent = 0\n",
    "    num_neg_sent = 0\n",
    "\n",
    "    pos_sent_article_list = []\n",
    "    neut_sent_article_list = []\n",
    "    neg_sent_article_list = []\n",
    "\n",
    "    for article_dict in article_list:\n",
    "        try:\n",
    "            if article_dict['content sentiment'] == 'POSITIVE':\n",
    "                pos_sent_article_list.append(article_dict)\n",
    "                num_pos_sent = len(pos_sent_article_list)\n",
    "                \n",
    "            elif article_dict['content sentiment'] == 'NEUTRAL':\n",
    "                neut_sent_article_list.append(article_dict)\n",
    "                num_neut_sent = len(neut_sent_article_list)\n",
    "                \n",
    "            else:\n",
    "                neg_sent_article_list.append(article_dict)\n",
    "                num_neg_sent = len(neg_sent_article_list)\n",
    "                \n",
    "        except KeyError as ke:\n",
    "            print(article_dict)\n",
    "            break\n",
    "\n",
    "    \n",
    "    return num_pos_sent, pos_sent_article_list, num_neut_sent, neut_sent_article_list, num_neg_sent, neg_sent_article_list"
   ]
  },
  {
   "cell_type": "code",
   "execution_count": 70,
   "id": "6e88b225-2750-4f7f-a01c-ecebfd318b0c",
   "metadata": {},
   "outputs": [
    {
     "name": "stdout",
     "output_type": "stream",
     "text": [
      "Number of positive article = 84, Percentage = 36.36\n",
      "Number of neutral articles = 35, Percentage = 15.15\n",
      "Number of negative articles = 112, Percentage = 48.48\n"
     ]
    }
   ],
   "source": [
    "num_pos_sent, pos_sent_article_list, num_neut_sent, neut_sent_article_list, num_neg_sent, neg_sent_article_list = get_statistics_by_sentiment(image_rel_articles_classified_list)\n",
    "\n",
    "print(f\"Number of positive article = {num_pos_sent}, Percentage = {round(num_pos_sent/num_class_articles*100, 2)}\")\n",
    "print(f\"Number of neutral articles = {num_neut_sent}, Percentage = {round(num_neut_sent/num_class_articles*100, 2)}\")\n",
    "print(f\"Number of negative articles = {num_neg_sent}, Percentage = {round(num_neg_sent/num_class_articles*100, 2)}\")"
   ]
  },
  {
   "cell_type": "code",
   "execution_count": 71,
   "id": "d0f8f135-87d1-452b-b754-a6342aa3a15f",
   "metadata": {
    "scrolled": true
   },
   "outputs": [
    {
     "name": "stdout",
     "output_type": "stream",
     "text": [
      "Let's look at one of the articles classified as positive:\n",
      "{'title': \"'City of Light' was star of Olympics show\", 'description': \"'City of Light' was star of Olympics show\", 'content': 'With its venues throughout the city and stunning backdrops, Paris will kickstart a whole new era in cities wanting to host the Olympic Games. PHOTO: AFP\\nWhat was the star of one of the \"all-time great\" Olympics? It was quite simply Paris, due to the ... [3326 chars]', 'url': 'https://tribune.com.pk/story/2487364/city-of-light-was-star-of-olympics-show', 'image': 'https://i.tribune.com.pk/media/images/111723417671-2/111723417671-2.jpg', 'publishedAt': '2024-08-11T23:16:18Z', 'source': {'name': 'The Express Tribune', 'url': 'https://tribune.com.pk'}, 'content sentiment': 'POSITIVE', 'environment related': 'NO', 'waterway related': 'NO'}\n",
      "\n",
      "Let's look at one of the articles classified as neutral:\n",
      "{'title': 'Day 16: What to watch with Team Canada at Paris 2024', 'description': 'Paris 2024 is coming to a close. Day 16 is the final day of competition at what has been a spectacular Olympic Games.', 'content': 'Day 16: What to watch with Team Canada at Paris 2024\\nParis 2024 is coming to a close. Day 16 is the final day of competition at what has been a spectacular Olympic Games. Here are the final Team Canada athletes that you don’t want to miss out on.\\nTea... [1795 chars]', 'url': 'https://olympic.ca/2024/08/10/day-16-what-to-watch-with-team-canada-at-paris-2024/', 'image': 'https://olympic.ca/wp-content/themes/canadianolympiccommittee/assets/favicons/favicon.ico', 'publishedAt': '2024-08-10T23:54:28Z', 'source': {'name': 'Canadian Olympic Committee', 'url': 'https://olympic.ca'}, 'content sentiment': 'NEUTRAL', 'environment related': 'NO', 'waterway related': 'NO'}\n",
      "\n",
      "Let's look at one of the articles classified as negative:\n",
      "{'title': 'WADA Calls Out USADA for Letting Doped Athletes Compete in Exchange for Info on Others', 'description': 'WADA argued that USADA\\'s tactic \"can be used to justify a failure to prosecute a case for years while doped athletes are sent back into the field...\"', 'content': 'The international feud between the U.S. Anti-Doping Agency (USADA) and the World Anti-Doping Agency (WADA) is showing no signs of slowing down in the wake of the Paris Olympics.\\nOn Wednesday, WADA told Reuters that it has learned of three cases betwe... [3109 chars]', 'url': 'https://swimswam.com/wada-calls-out-usada-for-letting-doped-athletes-compete-in-exchange-for-info-on-others/', 'image': 'https://swimswam.com/wp-content/uploads/2024/04/WADA-Logo-scaled.jpg?1723166066', 'publishedAt': '2024-08-08T23:03:19Z', 'source': {'name': 'SwimSwam', 'url': 'https://swimswam.com'}, 'content sentiment': 'NEGATIVE', 'environment related': 'NO', 'waterway related': 'NO'}\n"
     ]
    }
   ],
   "source": [
    "print(\"Let's look at one of the articles classified as positive:\")\n",
    "print(pos_sent_article_list[0])\n",
    "\n",
    "print(\"\\nLet's look at one of the articles classified as neutral:\")\n",
    "print(neut_sent_article_list[0])\n",
    "\n",
    "print(\"\\nLet's look at one of the articles classified as negative:\")\n",
    "print(neg_sent_article_list[0])"
   ]
  },
  {
   "cell_type": "markdown",
   "id": "b103df87-ec57-419e-8a3b-ff84e93547c9",
   "metadata": {},
   "source": [
    "### 3.2 Analyse environment relevance"
   ]
  },
  {
   "cell_type": "code",
   "execution_count": 72,
   "id": "8b990cfd-a7f8-4d93-8f8f-ea781da51705",
   "metadata": {},
   "outputs": [],
   "source": [
    "def get_statistics_by_env_rel(article_list):\n",
    "\n",
    "    num_env_rel = 0\n",
    "    num_non_env_rel = 0\n",
    "    \n",
    "    env_rel_list = []\n",
    "    non_env_rel_list = []\n",
    "    \n",
    "    for article_dict in article_list:\n",
    "        if article_dict['environment related'] == 'YES':\n",
    "            env_rel_list.append(article_dict)\n",
    "            num_env_rel = len(env_rel_list)\n",
    "            \n",
    "        else:\n",
    "            non_env_rel_list.append(article_dict)\n",
    "            num_non_env_rel = len(non_env_rel_list)\n",
    "\n",
    "    \n",
    "    return num_env_rel, env_rel_list, num_non_env_rel, non_env_rel_list"
   ]
  },
  {
   "cell_type": "code",
   "execution_count": 73,
   "id": "2cd10e63-1929-4fd3-b703-7d2e5dd11ca1",
   "metadata": {},
   "outputs": [
    {
     "name": "stdout",
     "output_type": "stream",
     "text": [
      "Number of environment-relevant articles = 54, Percentage = 23.38\n",
      "Number of non environment-relevant articles = 177, Percentage = 76.62\n"
     ]
    }
   ],
   "source": [
    "num_env_rel, env_rel_list, num_non_env_rel, non_env_rel_list = get_statistics_by_env_rel(image_rel_articles_classified_list)\n",
    "\n",
    "print(f\"Number of environment-relevant articles = {num_env_rel}, Percentage = {round(num_env_rel/num_class_articles*100, 2)}\")\n",
    "print(f\"Number of non environment-relevant articles = {num_non_env_rel}, Percentage = {round(num_non_env_rel/num_class_articles*100, 2)}\")"
   ]
  },
  {
   "cell_type": "markdown",
   "id": "8fc3f27f-5f5e-4b44-b4c6-dc71accf940d",
   "metadata": {},
   "source": [
    "### 3.3 Analyse environment relevance by content sentiment"
   ]
  },
  {
   "cell_type": "markdown",
   "id": "d3fa0483-0f51-4270-b79b-d805f645f224",
   "metadata": {},
   "source": [
    "#### 3.3.1 Analyse environment relevance for positive articles"
   ]
  },
  {
   "cell_type": "code",
   "execution_count": 74,
   "id": "971fe3ae-1172-4a80-9170-9fec95284498",
   "metadata": {},
   "outputs": [
    {
     "name": "stdout",
     "output_type": "stream",
     "text": [
      "Number of positive environment-relevant articles = 12, Percentage = 14.29\n",
      "Number of positive non environment-relevant articles = 72, Percentage = 85.71\n"
     ]
    }
   ],
   "source": [
    "num_pos_env_rel, pos_env_rel_list, num_pos_non_env_rel, pos_non_env_rel_list = get_statistics_by_env_rel(pos_sent_article_list)\n",
    "\n",
    "print(f\"Number of positive environment-relevant articles = {num_pos_env_rel}, Percentage = {round(num_pos_env_rel/num_pos_sent*100, 2)}\")\n",
    "print(f\"Number of positive non environment-relevant articles = {num_pos_non_env_rel}, Percentage = {round(num_pos_non_env_rel/num_pos_sent*100, 2)}\")"
   ]
  },
  {
   "cell_type": "markdown",
   "id": "ea78cba1-de46-40f7-8283-ecfd58c0de14",
   "metadata": {},
   "source": [
    "#### 3.3.2 Analyse environment relevance for neutral articles"
   ]
  },
  {
   "cell_type": "code",
   "execution_count": 75,
   "id": "707d8bf0-7350-4143-8963-843be1a29d48",
   "metadata": {},
   "outputs": [
    {
     "name": "stdout",
     "output_type": "stream",
     "text": [
      "Number of neutral environment-relevant articles = 14, Percentage = 40.0\n",
      "Number of neutral non environment-relevant articles = 21, Percentage = 60.0\n"
     ]
    }
   ],
   "source": [
    "num_neut_env_rel, neut_env_rel_list, num_neut_non_env_rel, neut_non_env_rel_list = get_statistics_by_env_rel(neut_sent_article_list)\n",
    "\n",
    "print(f\"Number of neutral environment-relevant articles = {num_neut_env_rel}, Percentage = {round(num_neut_env_rel/num_neut_sent*100, 2)}\")\n",
    "print(f\"Number of neutral non environment-relevant articles = {num_neut_non_env_rel}, Percentage = {round(num_neut_non_env_rel/num_neut_sent*100, 2)}\")"
   ]
  },
  {
   "cell_type": "markdown",
   "id": "cde5cd82-c00e-42b6-93f7-ac975560e3b9",
   "metadata": {},
   "source": [
    "#### 3.3.3 Analyse environment relevance for negative articles"
   ]
  },
  {
   "cell_type": "code",
   "execution_count": 76,
   "id": "e3f1dbdb-57df-45b1-b763-b179e3beeedd",
   "metadata": {},
   "outputs": [
    {
     "name": "stdout",
     "output_type": "stream",
     "text": [
      "Number of negative environment-relevant articles = 28, Percentage = 25.0\n",
      "Number of negative non environment-relevant articles = 84, Percentage = 75.0\n"
     ]
    }
   ],
   "source": [
    "num_neg_env_rel, neg_env_rel_list, num_neg_non_env_rel, neg_non_env_rel_list = get_statistics_by_env_rel(neg_sent_article_list)\n",
    "\n",
    "print(f\"Number of negative environment-relevant articles = {num_neg_env_rel}, Percentage = {round(num_neg_env_rel/num_neg_sent*100, 2)}\")\n",
    "print(f\"Number of negative non environment-relevant articles = {num_neg_non_env_rel}, Percentage = {round(num_neg_non_env_rel/num_neg_sent*100, 2)}\")"
   ]
  },
  {
   "cell_type": "markdown",
   "id": "ced98929-17f0-45fe-b730-4e5e5ceaefcd",
   "metadata": {},
   "source": [
    "### 3.4 Analyse content sentiment by environment relevance"
   ]
  },
  {
   "cell_type": "markdown",
   "id": "e04d1408-276e-47a6-b7c6-795f88380d7a",
   "metadata": {},
   "source": [
    "#### 3.4.1 Analyse content sentiment for environment relevant articles"
   ]
  },
  {
   "cell_type": "code",
   "execution_count": 77,
   "id": "bf263f69-3dcf-4428-b01e-3558623fc092",
   "metadata": {},
   "outputs": [
    {
     "name": "stdout",
     "output_type": "stream",
     "text": [
      "Number of environment-relevant articles that are positive = 12, Percentage = 22.22\n",
      "Number of environment-relevant articles that are neutral = 14, Percentage = 25.93\n",
      "Number of environment-relevant articles that are negative = 28, Percentage = 51.85\n"
     ]
    }
   ],
   "source": [
    "num_env_rel_pos_sent, env_rel_pos_sent_article_list, num_env_rel_neut_sent, env_rel_neut_sent_article_list, num_env_rel_neg_sent, env_rel_neg_sent_article_list = get_statistics_by_sentiment(env_rel_list)\n",
    "\n",
    "print(f\"Number of environment-relevant articles that are positive = {num_env_rel_pos_sent}, Percentage = {round(num_env_rel_pos_sent/num_env_rel*100, 2)}\")\n",
    "print(f\"Number of environment-relevant articles that are neutral = {num_env_rel_neut_sent}, Percentage = {round(num_env_rel_neut_sent/num_env_rel*100, 2)}\")\n",
    "print(f\"Number of environment-relevant articles that are negative = {num_env_rel_neg_sent}, Percentage = {round(num_env_rel_neg_sent/num_env_rel*100, 2)}\")"
   ]
  },
  {
   "cell_type": "markdown",
   "id": "529bf7b6-4518-4e3c-bf12-46ba5f32344c",
   "metadata": {},
   "source": [
    "#### 3.4.2 Analyse content sentiment for non-environment relevant articles"
   ]
  },
  {
   "cell_type": "code",
   "execution_count": 78,
   "id": "641c3d2c-9a85-4a00-ab9f-5411cfefb371",
   "metadata": {},
   "outputs": [
    {
     "name": "stdout",
     "output_type": "stream",
     "text": [
      "Number of environment-relevant articles that are positive = 72, Percentage = 40.68\n",
      "Number of environment-relevant articles that are neutral = 21, Percentage = 11.86\n",
      "Number of environment-relevant articles that are negative = 84, Percentage = 47.46\n"
     ]
    }
   ],
   "source": [
    "num_non_env_rel_pos_sent, non_env_rel_pos_sent_article_list, num_non_env_rel_neut_sent, non_env_rel_neut_sent_article_list, num_non_env_rel_neg_sent, non_env_rel_neg_sent_article_list = get_statistics_by_sentiment(non_env_rel_list)\n",
    "\n",
    "print(f\"Number of environment-relevant articles that are positive = {num_non_env_rel_pos_sent}, Percentage = {round(num_non_env_rel_pos_sent/num_non_env_rel*100, 2)}\")\n",
    "print(f\"Number of environment-relevant articles that are neutral = {num_non_env_rel_neut_sent}, Percentage = {round(num_non_env_rel_neut_sent/num_non_env_rel*100, 2)}\")\n",
    "print(f\"Number of environment-relevant articles that are negative = {num_non_env_rel_neg_sent}, Percentage = {round(num_non_env_rel_neg_sent/num_non_env_rel*100, 2)}\")"
   ]
  },
  {
   "cell_type": "markdown",
   "id": "85aec4f0-ec6d-4507-b017-8112b843ba34",
   "metadata": {},
   "source": [
    "### 3.5 Analyse waterway relevance"
   ]
  },
  {
   "cell_type": "markdown",
   "id": "7a7e7b5e-eaaa-4aa6-9f16-b2d1a473e447",
   "metadata": {},
   "source": [
    "#### 3.5.1 Determine waterway relevance of environment-relevant articles"
   ]
  },
  {
   "cell_type": "code",
   "execution_count": 79,
   "id": "466e07b9-bbc9-4dfc-a329-9a57174015b9",
   "metadata": {},
   "outputs": [
    {
     "name": "stdout",
     "output_type": "stream",
     "text": [
      "Number of waterway relevant articles among environment relevant articles = 39, Percentage = 72.22\n"
     ]
    }
   ],
   "source": [
    "num_ww_rel_env_rel_articles = len([article_dict for article_dict in env_rel_list if article_dict['waterway related'] == 'YES'])\n",
    "print(f\"Number of waterway relevant articles among environment relevant articles = {num_ww_rel_env_rel_articles}, Percentage = {round(num_ww_rel_env_rel_articles/num_env_rel*100, 2)}\")"
   ]
  },
  {
   "cell_type": "code",
   "execution_count": 80,
   "id": "e45dadb1-f4e0-4908-8a9c-933c157f7657",
   "metadata": {},
   "outputs": [
    {
     "name": "stdout",
     "output_type": "stream",
     "text": [
      "Number of waterway irrelevant articles among environment relevant articles = 15, Percentage = 27.78\n"
     ]
    }
   ],
   "source": [
    "num_ww_irrel_env_rel_articles = len([article_dict for article_dict in env_rel_list if article_dict['waterway related'] == 'NO'])\n",
    "print(f\"Number of waterway irrelevant articles among environment relevant articles = {num_ww_irrel_env_rel_articles}, Percentage = {round(num_ww_irrel_env_rel_articles/num_env_rel*100, 2)}\")"
   ]
  },
  {
   "cell_type": "markdown",
   "id": "659d7c0e-a44b-4451-bed1-b2456c105462",
   "metadata": {},
   "source": [
    "#### 3.5.2 Determine waterway relevance of environment-relevant articles that are positive"
   ]
  },
  {
   "cell_type": "code",
   "execution_count": 81,
   "id": "71192b5c-9bf6-4c45-a641-8ec32debf2f1",
   "metadata": {},
   "outputs": [
    {
     "name": "stdout",
     "output_type": "stream",
     "text": [
      "Number of waterway relevant articles among the positive environment relevant articles = 2, Percentage = 16.67\n"
     ]
    }
   ],
   "source": [
    "num_ww_rel_env_rel_pos_articles = len([article_dict for article_dict in env_rel_pos_sent_article_list if article_dict['waterway related'] == 'YES'])\n",
    "print(f\"Number of waterway relevant articles among the positive environment relevant articles = {num_ww_rel_env_rel_pos_articles}, Percentage = {round(num_ww_rel_env_rel_pos_articles/num_env_rel_pos_sent*100, 2)}\")"
   ]
  },
  {
   "cell_type": "code",
   "execution_count": 82,
   "id": "88294ee6-5b4b-48e8-90e2-ba65f56db5cb",
   "metadata": {},
   "outputs": [
    {
     "name": "stdout",
     "output_type": "stream",
     "text": [
      "Number of waterway irrelevant articles among the positive environment relevant articles = 10, Percentage = 83.33\n"
     ]
    }
   ],
   "source": [
    "num_ww_irrel_env_rel_pos_articles = len([article_dict for article_dict in env_rel_pos_sent_article_list if article_dict['waterway related'] == 'NO'])\n",
    "print(f\"Number of waterway irrelevant articles among the positive environment relevant articles = {num_ww_irrel_env_rel_pos_articles}, Percentage = {round(num_ww_irrel_env_rel_pos_articles/num_env_rel_pos_sent*100, 2)}\")"
   ]
  },
  {
   "cell_type": "markdown",
   "id": "e7066f0a-304b-49a9-8596-cdd07a89de46",
   "metadata": {},
   "source": [
    "#### 3.5.3 Determine waterway relevance of environment-relevant articles that are neutral"
   ]
  },
  {
   "cell_type": "code",
   "execution_count": 83,
   "id": "7ea8088f-8971-4aa1-8c80-2a68925e53b5",
   "metadata": {},
   "outputs": [
    {
     "name": "stdout",
     "output_type": "stream",
     "text": [
      "Number of waterway relevant articles among the neutral environment relevant articles = 13, Percentage = 92.86\n"
     ]
    }
   ],
   "source": [
    "num_ww_rel_env_rel_neut_articles = len([article_dict for article_dict in env_rel_neut_sent_article_list if article_dict['waterway related'] == 'YES'])\n",
    "print(f\"Number of waterway relevant articles among the neutral environment relevant articles = {num_ww_rel_env_rel_neut_articles}, Percentage = {round(num_ww_rel_env_rel_neut_articles/num_env_rel_neut_sent*100, 2)}\")"
   ]
  },
  {
   "cell_type": "code",
   "execution_count": 84,
   "id": "ade8e8b6-c13d-4e64-b523-495638cdd9b0",
   "metadata": {},
   "outputs": [
    {
     "name": "stdout",
     "output_type": "stream",
     "text": [
      "Number of waterway irrelevant articles among the neutral environment relevant articles = 1, Percentage = 7.14\n"
     ]
    }
   ],
   "source": [
    "num_ww_irrel_env_rel_neut_articles = len([article_dict for article_dict in env_rel_neut_sent_article_list if article_dict['waterway related'] == 'NO'])\n",
    "print(f\"Number of waterway irrelevant articles among the neutral environment relevant articles = {num_ww_irrel_env_rel_neut_articles}, Percentage = {round(num_ww_irrel_env_rel_neut_articles/num_env_rel_neut_sent*100, 2)}\")"
   ]
  },
  {
   "cell_type": "markdown",
   "id": "317b0573-4257-421c-b35b-5e5eaa9ea36a",
   "metadata": {},
   "source": [
    "#### 3.5.4 Determine waterway relevance of environment-relevant articles that are negative"
   ]
  },
  {
   "cell_type": "code",
   "execution_count": 85,
   "id": "683159c8-5433-4e5f-8754-21a9347571a5",
   "metadata": {},
   "outputs": [
    {
     "name": "stdout",
     "output_type": "stream",
     "text": [
      "Number of waterway relevant articles among the negative environment relevant articles = 24, Percentage = 85.71\n"
     ]
    }
   ],
   "source": [
    "num_ww_rel_env_rel_neg_articles = len([article_dict for article_dict in env_rel_neg_sent_article_list if article_dict['waterway related'] == 'YES'])\n",
    "print(f\"Number of waterway relevant articles among the negative environment relevant articles = {num_ww_rel_env_rel_neg_articles}, Percentage = {round(num_ww_rel_env_rel_neg_articles/num_env_rel_neg_sent*100, 2)}\")"
   ]
  },
  {
   "cell_type": "code",
   "execution_count": 86,
   "id": "073012de-ef3b-4f91-99da-4318d7cd3c1a",
   "metadata": {},
   "outputs": [
    {
     "name": "stdout",
     "output_type": "stream",
     "text": [
      "Number of waterway irrelevant articles among the negative environment relevant articles = 4, Percentage = 14.29\n"
     ]
    }
   ],
   "source": [
    "num_ww_irrel_env_rel_neg_articles = len([article_dict for article_dict in env_rel_neg_sent_article_list if article_dict['waterway related'] == 'NO'])\n",
    "print(f\"Number of waterway irrelevant articles among the negative environment relevant articles = {num_ww_irrel_env_rel_neg_articles}, Percentage = {round(num_ww_irrel_env_rel_neg_articles/num_env_rel_neg_sent*100, 2)}\")"
   ]
  },
  {
   "cell_type": "markdown",
   "id": "c65c418c-9898-487e-9c36-0ae521225f8b",
   "metadata": {},
   "source": [
    "## 5. Visualization"
   ]
  },
  {
   "cell_type": "markdown",
   "id": "068764a9-dfa7-4780-bcf5-4182bb3a475b",
   "metadata": {},
   "source": [
    "### 5.1 Visualizing environment-relevance of articles"
   ]
  },
  {
   "cell_type": "code",
   "execution_count": 87,
   "id": "7e72b037-8e78-468a-a2f4-d796f6538ed3",
   "metadata": {},
   "outputs": [
    {
     "data": {
      "text/plain": [
       "Text(0.5, 1.0, 'Distribution of Articles by Environment Relevance')"
      ]
     },
     "execution_count": 87,
     "metadata": {},
     "output_type": "execute_result"
    },
    {
     "data": {
      "image/png": "[encoded data removed]",
      "text/plain": [
       "<Figure size 640x480 with 1 Axes>"
      ]
     },
     "metadata": {},
     "output_type": "display_data"
    }
   ],
   "source": [
    "plt.bar(x = ['Relevant', 'Not Relevant'], height = [num_env_rel/num_class_articles * 100, num_non_env_rel/num_class_articles * 100], color = ['lightgreen', 'lightblue'])\n",
    "plt.xlabel(\"Environment Relevance\")\n",
    "plt.ylabel(\"Percentage of Articles\")\n",
    "plt.title(\"Distribution of Articles by Environment Relevance\")"
   ]
  },
  {
   "cell_type": "markdown",
   "id": "d51d89aa-f51b-40b7-91d0-3fc17550dc68",
   "metadata": {},
   "source": [
    "### 5.2 Visualizing article sentiment for environment-relevant articles"
   ]
  },
  {
   "cell_type": "code",
   "execution_count": 88,
   "id": "8cefd27a-3b09-44ab-9dd2-5680f8765a45",
   "metadata": {},
   "outputs": [
    {
     "data": {
      "text/plain": [
       "Text(0.5, 1.0, 'Distribution of Article Sentiment over Environment-Relevant Articles')"
      ]
     },
     "execution_count": 88,
     "metadata": {},
     "output_type": "execute_result"
    },
    {
     "data": {
      "image/png": "[encoded data removed]",
      "text/plain": [
       "<Figure size 640x480 with 1 Axes>"
      ]
     },
     "metadata": {},
     "output_type": "display_data"
    }
   ],
   "source": [
    "plt.bar(x = ['Positive', 'Neutral', 'Negative'], height = [num_env_rel_pos_sent/num_env_rel * 100, num_env_rel_neut_sent/num_env_rel * 100, num_env_rel_neg_sent/num_env_rel *100], color = ['lightgreen', 'yellow', 'orange'])\n",
    "plt.xlabel(\"Article Sentiment\")\n",
    "plt.ylabel(\"Percentage of Environment-Relevant Articles\")\n",
    "plt.title(\"Distribution of Article Sentiment over Environment-Relevant Articles\")"
   ]
  },
  {
   "cell_type": "markdown",
   "id": "62f979a8-7f04-4a8d-b026-2de9e63714dc",
   "metadata": {},
   "source": [
    "### 5.3 Visualizing waterway relevance for environment-relevant articles"
   ]
  },
  {
   "cell_type": "markdown",
   "id": "8ba139ec-ac09-4b90-bc7a-0ec3cf53bf80",
   "metadata": {},
   "source": [
    "#### 5.3.1 Visualizing waterway relevance for environment-relevant articles"
   ]
  },
  {
   "cell_type": "code",
   "execution_count": 89,
   "id": "c0c23523-71aa-4cad-acf5-8c2793499739",
   "metadata": {},
   "outputs": [
    {
     "name": "stdout",
     "output_type": "stream",
     "text": [
      "Number of waterway relevant articles among environment relevant articles = 39, Percentage = 72.22\n"
     ]
    }
   ],
   "source": [
    "num_ww_rel_env_rel_articles = len([article_dict for article_dict in env_rel_list if article_dict['waterway related'] == 'YES'])\n",
    "print(f\"Number of waterway relevant articles among environment relevant articles = {num_ww_rel_env_rel_articles}, Percentage = {round(num_ww_rel_env_rel_articles/num_env_rel*100, 2)}\")"
   ]
  },
  {
   "cell_type": "code",
   "execution_count": 90,
   "id": "8295ff8b-095f-4cda-b399-130225905f39",
   "metadata": {},
   "outputs": [
    {
     "data": {
      "text/plain": [
       "Text(0.5, 1.0, 'Distribution of Waterway Relevance\\nover Environment-Related Articles')"
      ]
     },
     "execution_count": 90,
     "metadata": {},
     "output_type": "execute_result"
    },
    {
     "data": {
      "image/png": "[encoded data removed]",
      "text/plain": [
       "<Figure size 640x480 with 1 Axes>"
      ]
     },
     "metadata": {},
     "output_type": "display_data"
    }
   ],
   "source": [
    "plt.bar(x = ['Waterway Relevant', 'Waterway Irrelevant'], height = [num_ww_rel_env_rel_articles/num_env_rel*100, num_ww_irrel_env_rel_articles/num_env_rel*100], color = ['lightblue', 'purple'])\n",
    "plt.xlabel(\"Waterway Relevance\")\n",
    "plt.ylabel(\"Percentage of Environment-Related\\nArticles\")\n",
    "plt.title(\"Distribution of Waterway Relevance\\nover Environment-Related Articles\")"
   ]
  },
  {
   "cell_type": "markdown",
   "id": "9c5d2f3e-d43b-4163-8c2c-219633a4a1fc",
   "metadata": {},
   "source": [
    "#### 5.3.2 Visualizing waterway relevance for environment-relevant articles with negative sentiment"
   ]
  },
  {
   "cell_type": "code",
   "execution_count": 91,
   "id": "d7e3f2ad-9c97-4bd7-9204-673774fff640",
   "metadata": {},
   "outputs": [
    {
     "data": {
      "text/plain": [
       "Text(0.5, 1.0, 'Distribution of Waterway Relevance\\nover Environment-Related Negative Articles')"
      ]
     },
     "execution_count": 91,
     "metadata": {},
     "output_type": "execute_result"
    },
    {
     "data": {
      "image/png": "[encoded data removed]",
      "text/plain": [
       "<Figure size 640x480 with 1 Axes>"
      ]
     },
     "metadata": {},
     "output_type": "display_data"
    }
   ],
   "source": [
    "plt.bar(x = ['Waterway Relevant', 'Waterway Irrelevant'], height = [num_ww_rel_env_rel_neg_articles/num_env_rel_neg_sent*100, num_ww_irrel_env_rel_neg_articles/num_env_rel_neg_sent*100], color = ['lightblue', 'purple'])\n",
    "plt.xlabel(\"Waterway Relevance\")\n",
    "plt.ylabel(\"Percentage of Environment-Related\\nNegative Articles\")\n",
    "plt.title(\"Distribution of Waterway Relevance\\nover Environment-Related Negative Articles\")"
   ]
  },
  {
   "cell_type": "markdown",
   "id": "6aa1e3c7-f080-4213-ade8-1a7efbde8fb4",
   "metadata": {},
   "source": [
    "### 5.4 Time-Series Plots"
   ]
  },
  {
   "cell_type": "markdown",
   "id": "f49df5b2-2964-4ecd-bf03-8127867048fd",
   "metadata": {},
   "source": [
    "#### 5.4.1 Time-series distribution of articles based on environment relevance"
   ]
  },
  {
   "cell_type": "code",
   "execution_count": 92,
   "id": "359cbb56-933a-4fc2-b2b6-fe6b8bede157",
   "metadata": {},
   "outputs": [
    {
     "name": "stderr",
     "output_type": "stream",
     "text": [
      "C:\\Users\\draw0004\\AppData\\Local\\Temp\\ipykernel_26224\\4079898317.py:2: UserWarning: Converting to Period representation will drop timezone information.\n",
      "  min_month = min([pd.to_datetime(article_dict['publishedAt']).to_period('M') for article_dict in image_rel_articles_classified_list])\n",
      "C:\\Users\\draw0004\\AppData\\Local\\Temp\\ipykernel_26224\\4079898317.py:3: UserWarning: Converting to Period representation will drop timezone information.\n",
      "  max_month = max([pd.to_datetime(article_dict['publishedAt']).to_period('M') for article_dict in image_rel_articles_classified_list])\n",
      "C:\\Users\\draw0004\\AppData\\Local\\Temp\\ipykernel_26224\\4079898317.py:13: UserWarning: Converting to Period representation will drop timezone information.\n",
      "  curr_month_env_rel_article_arr = np.array([pd.to_datetime(article_dict['publishedAt']).to_period('M') for article_dict in env_rel_list])\n",
      "C:\\Users\\draw0004\\AppData\\Local\\Temp\\ipykernel_26224\\4079898317.py:16: UserWarning: Converting to Period representation will drop timezone information.\n",
      "  curr_month_non_env_rel_article_arr = np.array([pd.to_datetime(article_dict['publishedAt']).to_period('M') for article_dict in non_env_rel_list])\n"
     ]
    },
    {
     "name": "stdout",
     "output_type": "stream",
     "text": [
      "Earliest article is from 2023-08.\n",
      "Latest article is from 2024-08.\n",
      "['2023-08', '2023-09', '2023-10', '2023-11', '2023-12', '2024-01', '2024-02', '2024-03', '2024-04', '2024-05', '2024-06', '2024-07', '2024-08']\n",
      "[3, 2, 1, 1, 4, 1, 0, 0, 8, 0, 10, 23, 1]\n",
      "[4, 14, 4, 4, 6, 11, 14, 18, 38, 14, 34, 58, 12]\n"
     ]
    }
   ],
   "source": [
    "#min_date = min([pd.to_datetime(article_dict['publishedAt']).strftime(\"%Y-%m\") for article_dict in image_rel_articles_classified_list])\n",
    "min_month = min([pd.to_datetime(article_dict['publishedAt']).to_period('M') for article_dict in image_rel_articles_classified_list])\n",
    "max_month = max([pd.to_datetime(article_dict['publishedAt']).to_period('M') for article_dict in image_rel_articles_classified_list])\n",
    "print(f\"Earliest article is from {min_month}.\")\n",
    "print(f\"Latest article is from {max_month}.\")\n",
    "\n",
    "months_x_axis_list = []\n",
    "num_env_rel_articles_y_axis_list = []\n",
    "cum_num_articles_y_axis_list = []\n",
    "curr_month = min_month\n",
    "while curr_month <= max_month:\n",
    "\n",
    "    curr_month_env_rel_article_arr = np.array([pd.to_datetime(article_dict['publishedAt']).to_period('M') for article_dict in env_rel_list])\n",
    "    curr_month_env_rel_article_num = np.sum(curr_month_env_rel_article_arr == curr_month)\n",
    "\n",
    "    curr_month_non_env_rel_article_arr = np.array([pd.to_datetime(article_dict['publishedAt']).to_period('M') for article_dict in non_env_rel_list])\n",
    "    curr_month_non_env_rel_article_num = np.sum(curr_month_non_env_rel_article_arr == curr_month)\n",
    "\n",
    "    months_x_axis_list.append(str(curr_month))\n",
    "    num_env_rel_articles_y_axis_list.append(curr_month_env_rel_article_num)\n",
    "    cum_num_articles_y_axis_list.append(curr_month_env_rel_article_num + curr_month_non_env_rel_article_num)\n",
    "\n",
    "    #print(f\"Month: {curr_month}\")\n",
    "    #print(f\"Number of environment relevant articles = {curr_month_env_rel_article_num}\")\n",
    "    #print(f\"Number of non-environment relevant articles = {curr_month_non_env_rel_article_num}\")\n",
    "    #print(\"------------------------------------------------\")\n",
    "    \n",
    "    curr_month += 1\n",
    "\n",
    "print(months_x_axis_list)\n",
    "print(num_env_rel_articles_y_axis_list)\n",
    "print(cum_num_articles_y_axis_list)"
   ]
  },
  {
   "cell_type": "code",
   "execution_count": 55,
   "id": "cf7a8d0e-5ef0-4660-8d02-f6431278e8cf",
   "metadata": {},
   "outputs": [
    {
     "data": {
      "text/plain": [
       "Text(0.5, 1.0, 'Articles by Environment-Relevance Published in the Year Leading Up to the Olympics')"
      ]
     },
     "execution_count": 55,
     "metadata": {},
     "output_type": "execute_result"
    },
    {
     "data": {
      "image/png": "[encoded data removed]",
      "text/plain": [
       "<Figure size 640x480 with 1 Axes>"
      ]
     },
     "metadata": {},
     "output_type": "display_data"
    }
   ],
   "source": [
    "plt.plot(months_x_axis_list, num_env_rel_articles_y_axis_list, '-', label = \"Environment Relevant Articles\")\n",
    "plt.plot(months_x_axis_list, cum_num_articles_y_axis_list, '-', label = \"All Articles\")\n",
    "plt.legend()\n",
    "plt.xlabel(\"Month\")\n",
    "plt.xticks(rotation=45)\n",
    "plt.ylabel(\"Number of Articles\")\n",
    "plt.title(\"Articles by Environment-Relevance Published in the Year Leading Up to the Olympics\")"
   ]
  },
  {
   "cell_type": "markdown",
   "id": "7687cf34-9c61-439e-a46d-ccf08ff57f82",
   "metadata": {},
   "source": [
    "#### 5.4.2 Time-series distribution of environment relevant articles based on waterway relevance"
   ]
  },
  {
   "cell_type": "code",
   "execution_count": 93,
   "id": "86576121-c1a4-4d61-82bf-705ac35ba739",
   "metadata": {},
   "outputs": [
    {
     "name": "stdout",
     "output_type": "stream",
     "text": [
      "Number of waterway relevant articles among environment relevant articles = 39, Percentage = 72.22\n"
     ]
    }
   ],
   "source": [
    "num_ww_rel_env_rel_articles = len([article_dict for article_dict in env_rel_list if article_dict['waterway related'] == 'YES'])\n",
    "print(f\"Number of waterway relevant articles among environment relevant articles = {num_ww_rel_env_rel_articles}, Percentage = {round(num_ww_rel_env_rel_articles/num_env_rel*100, 2)}\")"
   ]
  },
  {
   "cell_type": "code",
   "execution_count": 94,
   "id": "a2fab691-453a-43bf-82fb-054b736e4af8",
   "metadata": {},
   "outputs": [
    {
     "name": "stderr",
     "output_type": "stream",
     "text": [
      "C:\\Users\\draw0004\\AppData\\Local\\Temp\\ipykernel_26224\\4037091985.py:2: UserWarning: Converting to Period representation will drop timezone information.\n",
      "  min_month = min([pd.to_datetime(article_dict['publishedAt']).to_period('M') for article_dict in env_rel_list])\n",
      "C:\\Users\\draw0004\\AppData\\Local\\Temp\\ipykernel_26224\\4037091985.py:3: UserWarning: Converting to Period representation will drop timezone information.\n",
      "  max_month = max([pd.to_datetime(article_dict['publishedAt']).to_period('M') for article_dict in env_rel_list])\n",
      "C:\\Users\\draw0004\\AppData\\Local\\Temp\\ipykernel_26224\\4037091985.py:13: UserWarning: Converting to Period representation will drop timezone information.\n",
      "  curr_month_ww_rel_article_arr = np.array([pd.to_datetime(article_dict['publishedAt']).to_period('M') for article_dict in env_rel_list if article_dict['waterway related'] == 'YES'])\n",
      "C:\\Users\\draw0004\\AppData\\Local\\Temp\\ipykernel_26224\\4037091985.py:16: UserWarning: Converting to Period representation will drop timezone information.\n",
      "  curr_month_ww_irrel_article_arr = np.array([pd.to_datetime(article_dict['publishedAt']).to_period('M') for article_dict in env_rel_list if article_dict['waterway related'] == 'NO'])\n"
     ]
    },
    {
     "name": "stdout",
     "output_type": "stream",
     "text": [
      "Earliest article is from 2023-08.\n",
      "Latest article is from 2024-08.\n",
      "['2023-08', '2023-09', '2023-10', '2023-11', '2023-12', '2024-01', '2024-02', '2024-03', '2024-04', '2024-05', '2024-06', '2024-07', '2024-08']\n",
      "[3, 0, 1, 1, 3, 1, 0, 0, 6, 0, 6, 17, 1]\n",
      "[3, 2, 1, 1, 4, 1, 0, 0, 8, 0, 10, 23, 1]\n"
     ]
    }
   ],
   "source": [
    "#min_date = min([pd.to_datetime(article_dict['publishedAt']).strftime(\"%Y-%m\") for article_dict in image_rel_articles_classified_list])\n",
    "min_month = min([pd.to_datetime(article_dict['publishedAt']).to_period('M') for article_dict in env_rel_list])\n",
    "max_month = max([pd.to_datetime(article_dict['publishedAt']).to_period('M') for article_dict in env_rel_list])\n",
    "print(f\"Earliest article is from {min_month}.\")\n",
    "print(f\"Latest article is from {max_month}.\")\n",
    "\n",
    "months_x_axis_list = []\n",
    "num_ww_rel_articles_y_axis_list = []\n",
    "cum_num_env_rel_articles_y_axis_list = []\n",
    "curr_month = min_month\n",
    "while curr_month <= max_month:\n",
    "\n",
    "    curr_month_ww_rel_article_arr = np.array([pd.to_datetime(article_dict['publishedAt']).to_period('M') for article_dict in env_rel_list if article_dict['waterway related'] == 'YES'])\n",
    "    curr_month_ww_rel_article_num = np.sum(curr_month_ww_rel_article_arr == curr_month)\n",
    "    \n",
    "    curr_month_ww_irrel_article_arr = np.array([pd.to_datetime(article_dict['publishedAt']).to_period('M') for article_dict in env_rel_list if article_dict['waterway related'] == 'NO'])\n",
    "    curr_month_ww_irrel_article_num = np.sum(curr_month_ww_irrel_article_arr == curr_month)\n",
    "\n",
    "    months_x_axis_list.append(str(curr_month))\n",
    "    num_ww_rel_articles_y_axis_list.append(curr_month_ww_rel_article_num)\n",
    "    cum_num_env_rel_articles_y_axis_list.append(curr_month_ww_rel_article_num + curr_month_ww_irrel_article_num)\n",
    "    \n",
    "    curr_month += 1\n",
    "\n",
    "print(months_x_axis_list)\n",
    "print(num_ww_rel_articles_y_axis_list)\n",
    "print(cum_num_env_rel_articles_y_axis_list)"
   ]
  },
  {
   "cell_type": "code",
   "execution_count": 58,
   "id": "95c33141-4f9f-4ae4-917d-2e154ba3ebee",
   "metadata": {},
   "outputs": [
    {
     "data": {
      "text/plain": [
       "Text(0.5, 1.0, 'Enviroment Relevant Articles by Waterway-Relevance\\nPublished in the Year Leading Up to the Olympics')"
      ]
     },
     "execution_count": 58,
     "metadata": {},
     "output_type": "execute_result"
    },
    {
     "data": {
      "image/png": "[encoded data removed]",
      "text/plain": [
       "<Figure size 640x480 with 1 Axes>"
      ]
     },
     "metadata": {},
     "output_type": "display_data"
    }
   ],
   "source": [
    "plt.plot(months_x_axis_list, num_ww_rel_articles_y_axis_list, '-', label = \"Waterway Relevant Articles\")\n",
    "plt.plot(months_x_axis_list, cum_num_env_rel_articles_y_axis_list, '-', label = \"All Environment Relevant Articles\")\n",
    "plt.legend()\n",
    "plt.xlabel(\"Month\")\n",
    "plt.xticks(rotation=45)\n",
    "plt.ylabel(\"Number of Articles\")\n",
    "plt.title(\"Enviroment Relevant Articles by Waterway-Relevance\\nPublished in the Year Leading Up to the Olympics\")"
   ]
  },
  {
   "cell_type": "code",
   "execution_count": null,
   "id": "92126742-afeb-47b0-80f7-6c297017f7f9",
   "metadata": {},
   "outputs": [],
   "source": []
  },
  {
   "cell_type": "code",
   "execution_count": null,
   "id": "63620e75-fa1f-4132-bb47-68ac4464fa55",
   "metadata": {},
   "outputs": [],
   "source": []
  }
 ],
 "metadata": {
  "kernelspec": {
   "display_name": "Python 3 (ipykernel)",
   "language": "python",
   "name": "python3"
  },
  "language_info": {
   "codemirror_mode": {
    "name": "ipython",
    "version": 3
   },
   "file_extension": ".py",
   "mimetype": "text/x-python",
   "name": "python",
   "nbconvert_exporter": "python",
   "pygments_lexer": "ipython3",
   "version": "3.12.9"
  }
 },
 "nbformat": 4,
 "nbformat_minor": 5
}
